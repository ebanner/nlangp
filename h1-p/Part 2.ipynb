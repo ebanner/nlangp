{
 "cells": [
  {
   "cell_type": "code",
   "execution_count": 66,
   "metadata": {
    "collapsed": true
   },
   "outputs": [],
   "source": [
    "import pandas as pd\n",
    "\n",
    "df = pd.read_csv('gene.ngrams', sep=' ', names=['Count', 'NGram', 'One', 'Two', 'Three'])"
   ]
  },
  {
   "cell_type": "code",
   "execution_count": 34,
   "metadata": {
    "collapsed": false,
    "scrolled": true
   },
   "outputs": [
    {
     "data": {
      "text/html": [
       "<div style=\"max-height:1000px;max-width:1500px;overflow:auto;\">\n",
       "<table border=\"1\" class=\"dataframe\">\n",
       "  <thead>\n",
       "    <tr style=\"text-align: right;\">\n",
       "      <th></th>\n",
       "      <th>Count</th>\n",
       "      <th>NGram</th>\n",
       "      <th>One</th>\n",
       "      <th>Two</th>\n",
       "      <th>Three</th>\n",
       "    </tr>\n",
       "  </thead>\n",
       "  <tbody>\n",
       "    <tr>\n",
       "      <th>0</th>\n",
       "      <td>41072</td>\n",
       "      <td>1-GRAM</td>\n",
       "      <td>I-GENE</td>\n",
       "      <td>NaN</td>\n",
       "      <td>NaN</td>\n",
       "    </tr>\n",
       "    <tr>\n",
       "      <th>1</th>\n",
       "      <td>345128</td>\n",
       "      <td>1-GRAM</td>\n",
       "      <td>O</td>\n",
       "      <td>NaN</td>\n",
       "      <td>NaN</td>\n",
       "    </tr>\n",
       "    <tr>\n",
       "      <th>2</th>\n",
       "      <td>24435</td>\n",
       "      <td>2-GRAM</td>\n",
       "      <td>I-GENE</td>\n",
       "      <td>I-GENE</td>\n",
       "      <td>NaN</td>\n",
       "    </tr>\n",
       "    <tr>\n",
       "      <th>3</th>\n",
       "      <td>15888</td>\n",
       "      <td>2-GRAM</td>\n",
       "      <td>O</td>\n",
       "      <td>I-GENE</td>\n",
       "      <td>NaN</td>\n",
       "    </tr>\n",
       "    <tr>\n",
       "      <th>4</th>\n",
       "      <td>16624</td>\n",
       "      <td>2-GRAM</td>\n",
       "      <td>I-GENE</td>\n",
       "      <td>O</td>\n",
       "      <td>NaN</td>\n",
       "    </tr>\n",
       "    <tr>\n",
       "      <th>5</th>\n",
       "      <td>13783</td>\n",
       "      <td>2-GRAM</td>\n",
       "      <td>O</td>\n",
       "      <td>STOP</td>\n",
       "      <td>NaN</td>\n",
       "    </tr>\n",
       "    <tr>\n",
       "      <th>6</th>\n",
       "      <td>13</td>\n",
       "      <td>2-GRAM</td>\n",
       "      <td>I-GENE</td>\n",
       "      <td>STOP</td>\n",
       "      <td>NaN</td>\n",
       "    </tr>\n",
       "    <tr>\n",
       "      <th>7</th>\n",
       "      <td>13047</td>\n",
       "      <td>2-GRAM</td>\n",
       "      <td>*</td>\n",
       "      <td>O</td>\n",
       "      <td>NaN</td>\n",
       "    </tr>\n",
       "    <tr>\n",
       "      <th>8</th>\n",
       "      <td>315457</td>\n",
       "      <td>2-GRAM</td>\n",
       "      <td>O</td>\n",
       "      <td>O</td>\n",
       "      <td>NaN</td>\n",
       "    </tr>\n",
       "    <tr>\n",
       "      <th>9</th>\n",
       "      <td>749</td>\n",
       "      <td>2-GRAM</td>\n",
       "      <td>*</td>\n",
       "      <td>I-GENE</td>\n",
       "      <td>NaN</td>\n",
       "    </tr>\n",
       "    <tr>\n",
       "      <th>10</th>\n",
       "      <td>13796</td>\n",
       "      <td>2-GRAM</td>\n",
       "      <td>*</td>\n",
       "      <td>*</td>\n",
       "      <td>NaN</td>\n",
       "    </tr>\n",
       "    <tr>\n",
       "      <th>11</th>\n",
       "      <td>749</td>\n",
       "      <td>3-GRAM</td>\n",
       "      <td>*</td>\n",
       "      <td>*</td>\n",
       "      <td>I-GENE</td>\n",
       "    </tr>\n",
       "    <tr>\n",
       "      <th>12</th>\n",
       "      <td>11320</td>\n",
       "      <td>3-GRAM</td>\n",
       "      <td>I-GENE</td>\n",
       "      <td>O</td>\n",
       "      <td>O</td>\n",
       "    </tr>\n",
       "    <tr>\n",
       "      <th>13</th>\n",
       "      <td>9622</td>\n",
       "      <td>3-GRAM</td>\n",
       "      <td>I-GENE</td>\n",
       "      <td>I-GENE</td>\n",
       "      <td>O</td>\n",
       "    </tr>\n",
       "    <tr>\n",
       "      <th>14</th>\n",
       "      <td>291686</td>\n",
       "      <td>3-GRAM</td>\n",
       "      <td>O</td>\n",
       "      <td>O</td>\n",
       "      <td>O</td>\n",
       "    </tr>\n",
       "    <tr>\n",
       "      <th>15</th>\n",
       "      <td>1</td>\n",
       "      <td>3-GRAM</td>\n",
       "      <td>O</td>\n",
       "      <td>I-GENE</td>\n",
       "      <td>STOP</td>\n",
       "    </tr>\n",
       "    <tr>\n",
       "      <th>16</th>\n",
       "      <td>12451</td>\n",
       "      <td>3-GRAM</td>\n",
       "      <td>*</td>\n",
       "      <td>O</td>\n",
       "      <td>O</td>\n",
       "    </tr>\n",
       "    <tr>\n",
       "      <th>17</th>\n",
       "      <td>3491</td>\n",
       "      <td>3-GRAM</td>\n",
       "      <td>I-GENE</td>\n",
       "      <td>O</td>\n",
       "      <td>I-GENE</td>\n",
       "    </tr>\n",
       "    <tr>\n",
       "      <th>18</th>\n",
       "      <td>11</td>\n",
       "      <td>3-GRAM</td>\n",
       "      <td>I-GENE</td>\n",
       "      <td>I-GENE</td>\n",
       "      <td>STOP</td>\n",
       "    </tr>\n",
       "    <tr>\n",
       "      <th>19</th>\n",
       "      <td>14802</td>\n",
       "      <td>3-GRAM</td>\n",
       "      <td>I-GENE</td>\n",
       "      <td>I-GENE</td>\n",
       "      <td>I-GENE</td>\n",
       "    </tr>\n",
       "    <tr>\n",
       "      <th>20</th>\n",
       "      <td>3</td>\n",
       "      <td>3-GRAM</td>\n",
       "      <td>*</td>\n",
       "      <td>O</td>\n",
       "      <td>STOP</td>\n",
       "    </tr>\n",
       "    <tr>\n",
       "      <th>21</th>\n",
       "      <td>296</td>\n",
       "      <td>3-GRAM</td>\n",
       "      <td>*</td>\n",
       "      <td>I-GENE</td>\n",
       "      <td>O</td>\n",
       "    </tr>\n",
       "    <tr>\n",
       "      <th>22</th>\n",
       "      <td>11967</td>\n",
       "      <td>3-GRAM</td>\n",
       "      <td>O</td>\n",
       "      <td>O</td>\n",
       "      <td>STOP</td>\n",
       "    </tr>\n",
       "    <tr>\n",
       "      <th>23</th>\n",
       "      <td>6706</td>\n",
       "      <td>3-GRAM</td>\n",
       "      <td>O</td>\n",
       "      <td>I-GENE</td>\n",
       "      <td>O</td>\n",
       "    </tr>\n",
       "    <tr>\n",
       "      <th>24</th>\n",
       "      <td>9181</td>\n",
       "      <td>3-GRAM</td>\n",
       "      <td>O</td>\n",
       "      <td>I-GENE</td>\n",
       "      <td>I-GENE</td>\n",
       "    </tr>\n",
       "    <tr>\n",
       "      <th>25</th>\n",
       "      <td>452</td>\n",
       "      <td>3-GRAM</td>\n",
       "      <td>*</td>\n",
       "      <td>I-GENE</td>\n",
       "      <td>I-GENE</td>\n",
       "    </tr>\n",
       "    <tr>\n",
       "      <th>26</th>\n",
       "      <td>1813</td>\n",
       "      <td>3-GRAM</td>\n",
       "      <td>I-GENE</td>\n",
       "      <td>O</td>\n",
       "      <td>STOP</td>\n",
       "    </tr>\n",
       "    <tr>\n",
       "      <th>27</th>\n",
       "      <td>13047</td>\n",
       "      <td>3-GRAM</td>\n",
       "      <td>*</td>\n",
       "      <td>*</td>\n",
       "      <td>O</td>\n",
       "    </tr>\n",
       "    <tr>\n",
       "      <th>28</th>\n",
       "      <td>1</td>\n",
       "      <td>3-GRAM</td>\n",
       "      <td>*</td>\n",
       "      <td>I-GENE</td>\n",
       "      <td>STOP</td>\n",
       "    </tr>\n",
       "    <tr>\n",
       "      <th>29</th>\n",
       "      <td>11804</td>\n",
       "      <td>3-GRAM</td>\n",
       "      <td>O</td>\n",
       "      <td>O</td>\n",
       "      <td>I-GENE</td>\n",
       "    </tr>\n",
       "    <tr>\n",
       "      <th>30</th>\n",
       "      <td>593</td>\n",
       "      <td>3-GRAM</td>\n",
       "      <td>*</td>\n",
       "      <td>O</td>\n",
       "      <td>I-GENE</td>\n",
       "    </tr>\n",
       "  </tbody>\n",
       "</table>\n",
       "</div>"
      ],
      "text/plain": [
       "     Count   NGram     One     Two   Three\n",
       "0    41072  1-GRAM  I-GENE     NaN     NaN\n",
       "1   345128  1-GRAM       O     NaN     NaN\n",
       "2    24435  2-GRAM  I-GENE  I-GENE     NaN\n",
       "3    15888  2-GRAM       O  I-GENE     NaN\n",
       "4    16624  2-GRAM  I-GENE       O     NaN\n",
       "5    13783  2-GRAM       O    STOP     NaN\n",
       "6       13  2-GRAM  I-GENE    STOP     NaN\n",
       "7    13047  2-GRAM       *       O     NaN\n",
       "8   315457  2-GRAM       O       O     NaN\n",
       "9      749  2-GRAM       *  I-GENE     NaN\n",
       "10   13796  2-GRAM       *       *     NaN\n",
       "11     749  3-GRAM       *       *  I-GENE\n",
       "12   11320  3-GRAM  I-GENE       O       O\n",
       "13    9622  3-GRAM  I-GENE  I-GENE       O\n",
       "14  291686  3-GRAM       O       O       O\n",
       "15       1  3-GRAM       O  I-GENE    STOP\n",
       "16   12451  3-GRAM       *       O       O\n",
       "17    3491  3-GRAM  I-GENE       O  I-GENE\n",
       "18      11  3-GRAM  I-GENE  I-GENE    STOP\n",
       "19   14802  3-GRAM  I-GENE  I-GENE  I-GENE\n",
       "20       3  3-GRAM       *       O    STOP\n",
       "21     296  3-GRAM       *  I-GENE       O\n",
       "22   11967  3-GRAM       O       O    STOP\n",
       "23    6706  3-GRAM       O  I-GENE       O\n",
       "24    9181  3-GRAM       O  I-GENE  I-GENE\n",
       "25     452  3-GRAM       *  I-GENE  I-GENE\n",
       "26    1813  3-GRAM  I-GENE       O    STOP\n",
       "27   13047  3-GRAM       *       *       O\n",
       "28       1  3-GRAM       *  I-GENE    STOP\n",
       "29   11804  3-GRAM       O       O  I-GENE\n",
       "30     593  3-GRAM       *       O  I-GENE"
      ]
     },
     "execution_count": 34,
     "metadata": {},
     "output_type": "execute_result"
    }
   ],
   "source": [
    "df"
   ]
  },
  {
   "cell_type": "markdown",
   "metadata": {},
   "source": [
    "# Bigrams"
   ]
  },
  {
   "cell_type": "code",
   "execution_count": 12,
   "metadata": {
    "collapsed": false
   },
   "outputs": [],
   "source": [
    "from collections import defaultdict\n",
    "\n",
    "bigram_count = defaultdict(lambda: defaultdict(int))\n",
    "\n",
    "for count, BIGRAM, tag_one, tag_two, _ in df[df['NGram'] == '2-GRAM'].values.tolist():\n",
    "    bigram_count[tag_one][tag_two] = count"
   ]
  },
  {
   "cell_type": "code",
   "execution_count": 14,
   "metadata": {
    "collapsed": false
   },
   "outputs": [
    {
     "data": {
      "text/plain": [
       "13796"
      ]
     },
     "execution_count": 14,
     "metadata": {},
     "output_type": "execute_result"
    }
   ],
   "source": [
    "bigram_count['*']['*']"
   ]
  },
  {
   "cell_type": "markdown",
   "metadata": {},
   "source": [
    "# Trigrams"
   ]
  },
  {
   "cell_type": "code",
   "execution_count": 17,
   "metadata": {
    "collapsed": false
   },
   "outputs": [],
   "source": [
    "from collections import defaultdict\n",
    "\n",
    "trigram_count = defaultdict(lambda: defaultdict(lambda: defaultdict(int)))\n",
    "\n",
    "for count, TRIGRAM, tag_one, tag_two, tag_three in df[df['NGram'] == '3-GRAM'].values.tolist():\n",
    "    trigram_count[tag_one][tag_two][tag_three] = count"
   ]
  },
  {
   "cell_type": "markdown",
   "metadata": {},
   "source": [
    "# Compute $q_\\text{MLE}$"
   ]
  },
  {
   "cell_type": "code",
   "execution_count": 26,
   "metadata": {
    "collapsed": false
   },
   "outputs": [],
   "source": [
    "import itertools\n",
    "from collections import defaultdict\n",
    "\n",
    "q = defaultdict(lambda: defaultdict(lambda: defaultdict(int)))\n",
    "\n",
    "for next, current, previous in itertools.product(['*', 'STOP', 'O', 'I-GENE'], repeat=3):\n",
    "    # Ignore situations where the premise is impossible\n",
    "    if not bigram_count[previous][current]:\n",
    "        continue\n",
    "        \n",
    "    q[next][previous][current] = trigram_count[previous][current][next] / float(bigram_count[previous][current])"
   ]
  },
  {
   "cell_type": "markdown",
   "metadata": {},
   "source": [
    "# Unigrams"
   ]
  },
  {
   "cell_type": "code",
   "execution_count": 107,
   "metadata": {
    "collapsed": false,
    "scrolled": true
   },
   "outputs": [
    {
     "data": {
      "text/plain": [
       "<matplotlib.axes._subplots.AxesSubplot at 0x7ff3b9394990>"
      ]
     },
     "execution_count": 107,
     "metadata": {},
     "output_type": "execute_result"
    },
    {
     "data": {
      "image/png": "[encoded data removed]",
      "text/plain": [
       "<matplotlib.figure.Figure at 0x7ff3b931eb50>"
      ]
     },
     "metadata": {},
     "output_type": "display_data"
    }
   ],
   "source": [
    "%matplotlib inline\n",
    "import matplotlib.pyplot as plt\n",
    "\n",
    "df[df['NGram'] == '1-GRAM'].plot(x='One', y='Count', kind='bar')"
   ]
  },
  {
   "cell_type": "markdown",
   "metadata": {},
   "source": [
    "# Bigrams"
   ]
  },
  {
   "cell_type": "code",
   "execution_count": 106,
   "metadata": {
    "collapsed": false,
    "scrolled": true
   },
   "outputs": [
    {
     "data": {
      "text/plain": [
       "<matplotlib.axes._subplots.AxesSubplot at 0x7ff3b93d0110>"
      ]
     },
     "execution_count": 106,
     "metadata": {},
     "output_type": "execute_result"
    },
    {
     "data": {
      "image/png": "[encoded data removed]",
      "text/plain": [
       "<matplotlib.figure.Figure at 0x7ff3b946f650>"
      ]
     },
     "metadata": {},
     "output_type": "display_data"
    }
   ],
   "source": [
    "%matplotlib inline\n",
    "import matplotlib.pyplot as plt\n",
    "\n",
    "df[df['NGram'] == '2-GRAM'].plot(x=['One', 'Two'], y='Count', kind='bar')"
   ]
  },
  {
   "cell_type": "markdown",
   "metadata": {},
   "source": [
    "# Trigrams"
   ]
  },
  {
   "cell_type": "code",
   "execution_count": 108,
   "metadata": {
    "collapsed": false
   },
   "outputs": [
    {
     "data": {
      "text/plain": [
       "<matplotlib.axes._subplots.AxesSubplot at 0x7ff3b928e490>"
      ]
     },
     "execution_count": 108,
     "metadata": {},
     "output_type": "execute_result"
    },
    {
     "data": {
      "image/png": "[encoded data removed]",
      "text/plain": [
       "<matplotlib.figure.Figure at 0x7ff3b92f18d0>"
      ]
     },
     "metadata": {},
     "output_type": "display_data"
    }
   ],
   "source": [
    "%matplotlib inline\n",
    "import matplotlib.pyplot as plt\n",
    "\n",
    "df[df['NGram'] == '3-GRAM'].plot(x=['One', 'Two', 'Three'], y='Count', kind='bar')"
   ]
  },
  {
   "cell_type": "code",
   "execution_count": 109,
   "metadata": {
    "collapsed": false,
    "scrolled": true
   },
   "outputs": [
    {
     "data": {
      "text/plain": [
       "<matplotlib.axes._subplots.AxesSubplot at 0x7ff3b9083210>"
      ]
     },
     "execution_count": 109,
     "metadata": {},
     "output_type": "execute_result"
    },
    {
     "data": {
      "image/png": "[encoded data removed]",
      "text/plain": [
       "<matplotlib.figure.Figure at 0x7ff3b94c0d10>"
      ]
     },
     "metadata": {},
     "output_type": "display_data"
    }
   ],
   "source": [
    "%matplotlib inline\n",
    "import matplotlib.pyplot as plt\n",
    "\n",
    "trigram = df['NGram'] == '3-GRAM'\n",
    "star_one = df['One'] == '*'\n",
    "star_two = df['Two'] == '*'\n",
    "\n",
    "df[trigram & star_one & star_two].plot(x=['One', 'Two', 'Three'], y='Count', kind='bar')"
   ]
  },
  {
   "cell_type": "code",
   "execution_count": 110,
   "metadata": {
    "collapsed": false,
    "scrolled": true
   },
   "outputs": [
    {
     "data": {
      "text/plain": [
       "<matplotlib.axes._subplots.AxesSubplot at 0x7ff3b9049490>"
      ]
     },
     "execution_count": 110,
     "metadata": {},
     "output_type": "execute_result"
    },
    {
     "data": {
      "image/png": "[encoded data removed]",
      "text/plain": [
       "<matplotlib.figure.Figure at 0x7ff3b90340d0>"
      ]
     },
     "metadata": {},
     "output_type": "display_data"
    }
   ],
   "source": [
    "%matplotlib inline\n",
    "import matplotlib.pyplot as plt\n",
    "\n",
    "trigram = df['NGram'] == '3-GRAM'\n",
    "star_one = df['One'] == 'I-GENE'\n",
    "star_two = df['Two'] == 'O'\n",
    "\n",
    "df[trigram & star_one & star_two].plot(x=['One', 'Two', 'Three'], y='Count', kind='bar')"
   ]
  },
  {
   "cell_type": "code",
   "execution_count": 111,
   "metadata": {
    "collapsed": false,
    "scrolled": true
   },
   "outputs": [
    {
     "data": {
      "text/plain": [
       "<matplotlib.axes._subplots.AxesSubplot at 0x7ff3b8ff5b90>"
      ]
     },
     "execution_count": 111,
     "metadata": {},
     "output_type": "execute_result"
    },
    {
     "data": {
      "image/png": "[encoded data removed]",
      "text/plain": [
       "<matplotlib.figure.Figure at 0x7ff3b8f8a3d0>"
      ]
     },
     "metadata": {},
     "output_type": "display_data"
    }
   ],
   "source": [
    "%matplotlib inline\n",
    "import matplotlib.pyplot as plt\n",
    "\n",
    "trigram = df['NGram'] == '3-GRAM'\n",
    "star_one = df['One'] == 'O'\n",
    "star_two = df['Two'] == 'O'\n",
    "\n",
    "df[trigram & star_one & star_two].plot(x=['One', 'Two', 'Three'], y='Count', kind='bar')"
   ]
  },
  {
   "cell_type": "code",
   "execution_count": 112,
   "metadata": {
    "collapsed": false,
    "scrolled": true
   },
   "outputs": [
    {
     "data": {
      "text/plain": [
       "<matplotlib.axes._subplots.AxesSubplot at 0x7ff3b8f2ded0>"
      ]
     },
     "execution_count": 112,
     "metadata": {},
     "output_type": "execute_result"
    },
    {
     "data": {
      "image/png": "[encoded data removed]",
      "text/plain": [
       "<matplotlib.figure.Figure at 0x7ff3b8f37dd0>"
      ]
     },
     "metadata": {},
     "output_type": "display_data"
    }
   ],
   "source": [
    "%matplotlib inline\n",
    "import matplotlib.pyplot as plt\n",
    "\n",
    "trigram = df['NGram'] == '3-GRAM'\n",
    "star_one = df['One'] == 'O'\n",
    "star_two = df['Two'] == 'I-GENE'\n",
    "\n",
    "df[trigram & star_one & star_two].plot(x=['One', 'Two', 'Three'], y='Count', kind='bar')"
   ]
  },
  {
   "cell_type": "code",
   "execution_count": 113,
   "metadata": {
    "collapsed": false,
    "scrolled": false
   },
   "outputs": [
    {
     "data": {
      "text/plain": [
       "<matplotlib.axes._subplots.AxesSubplot at 0x7ff3b8e68810>"
      ]
     },
     "execution_count": 113,
     "metadata": {},
     "output_type": "execute_result"
    },
    {
     "data": {
      "image/png": "[encoded data removed]",
      "text/plain": [
       "<matplotlib.figure.Figure at 0x7ff3b8e992d0>"
      ]
     },
     "metadata": {},
     "output_type": "display_data"
    }
   ],
   "source": [
    "%matplotlib inline\n",
    "import matplotlib.pyplot as plt\n",
    "\n",
    "trigram = df['NGram'] == '3-GRAM'\n",
    "star_one = df['One'] == 'I-GENE'\n",
    "star_two = df['Two'] == 'I-GENE'\n",
    "\n",
    "df[trigram & star_one & star_two].plot(x=['One', 'Two', 'Three'], y='Count', kind='bar')"
   ]
  },
  {
   "cell_type": "code",
   "execution_count": 117,
   "metadata": {
    "collapsed": false,
    "scrolled": true
   },
   "outputs": [
    {
     "data": {
      "text/plain": [
       "<matplotlib.axes._subplots.AxesSubplot at 0x7ff3b8b51950>"
      ]
     },
     "execution_count": 117,
     "metadata": {},
     "output_type": "execute_result"
    },
    {
     "data": {
      "image/png": "[encoded data removed]",
      "text/plain": [
       "<matplotlib.figure.Figure at 0x7ff3b8b4ee90>"
      ]
     },
     "metadata": {},
     "output_type": "display_data"
    }
   ],
   "source": [
    "%matplotlib inline\n",
    "import matplotlib.pyplot as plt\n",
    "\n",
    "trigram = df['NGram'] == '3-GRAM'\n",
    "star_two = df['Three'] == 'STOP'\n",
    "\n",
    "df[trigram & star_two].plot(x=['One', 'Two', 'Three'], y='Count', kind='bar')"
   ]
  },
  {
   "cell_type": "code",
   "execution_count": null,
   "metadata": {
    "collapsed": true
   },
   "outputs": [],
   "source": []
  }
 ],
 "metadata": {
  "kernelspec": {
   "display_name": "Python 2",
   "language": "python",
   "name": "python2"
  },
  "language_info": {
   "codemirror_mode": {
    "name": "ipython",
    "version": 2
   },
   "file_extension": ".py",
   "mimetype": "text/x-python",
   "name": "python",
   "nbconvert_exporter": "python",
   "pygments_lexer": "ipython2",
   "version": "2.7.6"
  }
 },
 "nbformat": 4,
 "nbformat_minor": 0
}
