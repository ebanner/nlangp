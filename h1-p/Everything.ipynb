{
 "cells": [
  {
   "cell_type": "markdown",
   "metadata": {},
   "source": [
    "# === Part I ==="
   ]
  },
  {
   "cell_type": "code",
   "execution_count": 5,
   "metadata": {
    "collapsed": false
   },
   "outputs": [],
   "source": [
    "!python count_freqs.py gene.train > gene.counts"
   ]
  },
  {
   "cell_type": "markdown",
   "metadata": {},
   "source": [
    "# Fetch NGram Counts"
   ]
  },
  {
   "cell_type": "code",
   "execution_count": 6,
   "metadata": {
    "collapsed": true
   },
   "outputs": [],
   "source": [
    "import pandas as pd\n",
    "\n",
    "df = pd.read_csv('gene.ngrams', sep=' ', names=['Count', 'NGram', 'One', 'Two', 'Three'])"
   ]
  },
  {
   "cell_type": "markdown",
   "metadata": {},
   "source": [
    "# Unigram Tag Counts"
   ]
  },
  {
   "cell_type": "code",
   "execution_count": 7,
   "metadata": {
    "collapsed": true
   },
   "outputs": [],
   "source": [
    "counts = {}\n",
    "\n",
    "for tag, count in df[df['NGram'] == '1-GRAM'][['One', 'Count']].values:\n",
    "    counts[tag] = count"
   ]
  },
  {
   "cell_type": "markdown",
   "metadata": {},
   "source": [
    "# Reference Counts"
   ]
  },
  {
   "cell_type": "code",
   "execution_count": 8,
   "metadata": {
    "collapsed": true
   },
   "outputs": [],
   "source": [
    "import pandas as pd\n",
    "\n",
    "df = pd.read_csv('gene.counts', sep=' ', names=['Count', 'WORDTAG', 'Tag', 'Token'])"
   ]
  },
  {
   "cell_type": "markdown",
   "metadata": {},
   "source": [
    "# Compile Token Counts"
   ]
  },
  {
   "cell_type": "code",
   "execution_count": 9,
   "metadata": {
    "collapsed": true
   },
   "outputs": [],
   "source": [
    "with open('gene.counts', 'r') as f:\n",
    "    lines = f.readlines()"
   ]
  },
  {
   "cell_type": "code",
   "execution_count": 10,
   "metadata": {
    "collapsed": false,
    "scrolled": true
   },
   "outputs": [],
   "source": [
    "from collections import defaultdict\n",
    "\n",
    "c = defaultdict(lambda: defaultdict(int))\n",
    "\n",
    "for line in lines:\n",
    "    count, _, tag, token = line.split()\n",
    "    c[token][tag] = int(count)"
   ]
  },
  {
   "cell_type": "markdown",
   "metadata": {},
   "source": [
    "# Find Infrequent Words"
   ]
  },
  {
   "cell_type": "code",
   "execution_count": 11,
   "metadata": {
    "collapsed": false
   },
   "outputs": [],
   "source": [
    "infrequent_words = set()\n",
    "\n",
    "for token in c:\n",
    "    if c[token]['O'] + c[token]['I-GENE'] < 5:\n",
    "        infrequent_words.add(token)"
   ]
  },
  {
   "cell_type": "markdown",
   "metadata": {},
   "source": [
    "# Write Infrequent Words Back To Disk"
   ]
  },
  {
   "cell_type": "code",
   "execution_count": 12,
   "metadata": {
    "collapsed": false
   },
   "outputs": [],
   "source": [
    "with open('gene.count+infrequents', 'w') as f:\n",
    "    for line in lines:\n",
    "        count, WORDTAG, tag, token = line.split()\n",
    "        \n",
    "        if token in infrequent_words:\n",
    "            f.write(' '.join([count, WORDTAG, tag, '_RARE_']) + '\\n')\n",
    "        else:\n",
    "            f.write(line)"
   ]
  },
  {
   "cell_type": "markdown",
   "metadata": {},
   "source": [
    "# Recompute Counts with Infrequent Word Class"
   ]
  },
  {
   "cell_type": "code",
   "execution_count": 13,
   "metadata": {
    "collapsed": false
   },
   "outputs": [],
   "source": [
    "with open('gene.count+infrequents', 'r') as f:\n",
    "    lines = f.readlines()  "
   ]
  },
  {
   "cell_type": "code",
   "execution_count": 14,
   "metadata": {
    "collapsed": true
   },
   "outputs": [],
   "source": [
    "c = defaultdict(lambda: defaultdict(int))\n",
    "\n",
    "for line in lines:\n",
    "    count, _, tag, token = line.split()\n",
    "    c[token][tag] += int(count)"
   ]
  },
  {
   "cell_type": "markdown",
   "metadata": {},
   "source": [
    "# Append Infrequent Word Count"
   ]
  },
  {
   "cell_type": "code",
   "execution_count": 15,
   "metadata": {
    "collapsed": false
   },
   "outputs": [],
   "source": [
    "with open('gene.counts', 'a') as f:\n",
    "    for tag in c['_RARE_']:\n",
    "        f.write(' '.join([str(c['_RARE_'][tag]), 'WORDTAG', tag, '_RARE_']) + '\\n')"
   ]
  },
  {
   "cell_type": "markdown",
   "metadata": {
    "collapsed": true
   },
   "source": [
    "# Read All Words Back in One More Time"
   ]
  },
  {
   "cell_type": "code",
   "execution_count": 16,
   "metadata": {
    "collapsed": true
   },
   "outputs": [],
   "source": [
    "with open('gene.counts', 'r') as f:\n",
    "    lines = f.readlines()"
   ]
  },
  {
   "cell_type": "code",
   "execution_count": 17,
   "metadata": {
    "collapsed": true
   },
   "outputs": [],
   "source": [
    "from collections import defaultdict\n",
    "\n",
    "for line in lines:\n",
    "    count, _, tag, token = line.split()\n",
    "    c[token][tag] = int(count)"
   ]
  },
  {
   "cell_type": "markdown",
   "metadata": {},
   "source": [
    "# Compute Emission Probabilities"
   ]
  },
  {
   "cell_type": "code",
   "execution_count": 18,
   "metadata": {
    "collapsed": true
   },
   "outputs": [],
   "source": [
    "e = defaultdict(lambda: defaultdict(int))\n",
    "\n",
    "for token in c:\n",
    "    for tag in c[token]:\n",
    "        e[token][tag] = c[token][tag] / float(counts[tag])"
   ]
  },
  {
   "cell_type": "markdown",
   "metadata": {},
   "source": [
    "# === Part II ==="
   ]
  },
  {
   "cell_type": "code",
   "execution_count": 19,
   "metadata": {
    "collapsed": true
   },
   "outputs": [],
   "source": [
    "import pandas as pd\n",
    "\n",
    "df = pd.read_csv('gene.ngrams', sep=' ', names=['Count', 'NGram', 'One', 'Two', 'Three'])"
   ]
  },
  {
   "cell_type": "markdown",
   "metadata": {},
   "source": [
    "# Bigrams"
   ]
  },
  {
   "cell_type": "code",
   "execution_count": 20,
   "metadata": {
    "collapsed": false
   },
   "outputs": [],
   "source": [
    "from collections import defaultdict\n",
    "\n",
    "bigram_count = defaultdict(lambda: defaultdict(int))\n",
    "\n",
    "for count, BIGRAM, tag_one, tag_two, _ in df[df['NGram'] == '2-GRAM'].values.tolist():\n",
    "    bigram_count[tag_one][tag_two] = count"
   ]
  },
  {
   "cell_type": "markdown",
   "metadata": {},
   "source": [
    "# Trigrams"
   ]
  },
  {
   "cell_type": "code",
   "execution_count": 21,
   "metadata": {
    "collapsed": true
   },
   "outputs": [],
   "source": [
    "from collections import defaultdict\n",
    "\n",
    "trigram_count = defaultdict(lambda: defaultdict(lambda: defaultdict(int)))\n",
    "\n",
    "for count, TRIGRAM, tag_one, tag_two, tag_three in df[df['NGram'] == '3-GRAM'].values.tolist():\n",
    "    trigram_count[tag_one][tag_two][tag_three] = count"
   ]
  },
  {
   "cell_type": "markdown",
   "metadata": {},
   "source": [
    "# Compute $q_\\text{MLE}$"
   ]
  },
  {
   "cell_type": "code",
   "execution_count": 22,
   "metadata": {
    "collapsed": true
   },
   "outputs": [],
   "source": [
    "import itertools\n",
    "from collections import defaultdict\n",
    "\n",
    "q = defaultdict(lambda: defaultdict(lambda: defaultdict(int)))\n",
    "\n",
    "for next, current, previous in itertools.product(['*', 'STOP', 'O', 'I-GENE'], repeat=3):\n",
    "    # Ignore situations where the premise is impossible\n",
    "    if not bigram_count[previous][current]:\n",
    "        continue\n",
    "        \n",
    "    q[next][previous][current] = trigram_count[previous][current][next] / float(bigram_count[previous][current])"
   ]
  },
  {
   "cell_type": "markdown",
   "metadata": {},
   "source": [
    "# Viterbi Algorithm"
   ]
  },
  {
   "cell_type": "code",
   "execution_count": 88,
   "metadata": {
    "collapsed": true
   },
   "outputs": [],
   "source": [
    "import itertools\n",
    "from collections import defaultdict\n",
    "\n",
    "pi = defaultdict(lambda: defaultdict(lambda: defaultdict(int)))\n",
    "\n",
    "\n",
    "def viterbi(xs, q, e):\n",
    "    # Initialize pi\n",
    "    pi[0]['*']['*'], n = 1, len(xs)\n",
    "    \n",
    "    # Initialize S such that:\n",
    "    #   S(-1) = S(0) = ['*']\n",
    "    #   S(1:n) (inclusive) = ['O', 'I-GENE']\n",
    "    #   S(n+1) = ['STOP']\n",
    "    S = [['*']] + [('O', 'I-GENE') for _ in range(n) ] + [['STOP']] + [['*']]\n",
    "    \n",
    "    for k, x in enumerate(xs.split(), start=1):\n",
    "        for u, v in itertools.product(S[k-1], S[k]):\n",
    "            print 'Calculating pi[{}][{}][{}] = max w in {}...'.format(k, u, v, S[k-2])\n",
    "            \n",
    "            pi[k][u][v] = max([ pi[k-1][w][u]*q[v][w][u]*e[x][v] for w in S[k-2] ])\n",
    "        \n",
    "    return max([ pi[n][u][v]*q['STOP'][u][v] for u, v in itertools.product(S[n-1], S[n]) ])"
   ]
  },
  {
   "cell_type": "code",
   "execution_count": 89,
   "metadata": {
    "collapsed": false
   },
   "outputs": [
    {
     "name": "stdout",
     "output_type": "stream",
     "text": [
      "Calculating pi[1][*][O] = max w in ['*']...\n",
      "Calculating pi[1][*][I-GENE] = max w in ['*']...\n"
     ]
    },
    {
     "data": {
      "text/plain": [
       "0.0"
      ]
     },
     "execution_count": 89,
     "metadata": {},
     "output_type": "execute_result"
    }
   ],
   "source": [
    "viterbi('the', q, e)"
   ]
  },
  {
   "cell_type": "markdown",
   "metadata": {},
   "source": [
    "# Debugging Viterbi"
   ]
  },
  {
   "cell_type": "code",
   "execution_count": 198,
   "metadata": {
    "collapsed": false
   },
   "outputs": [],
   "source": [
    "import itertools\n",
    "from collections import defaultdict\n",
    "\n",
    "highest_prob, backpointer = defaultdict(lambda: defaultdict(lambda: defaultdict(int))), defaultdict(lambda: defaultdict(lambda: defaultdict(int)))\n",
    "\n",
    "\n",
    "def viterbi(xs, transition, emission):\n",
    "    # Initialize highest_prob\n",
    "    highest_prob[0]['*']['*'], n, = 1, len(xs.split())\n",
    "    y = [''] * (n+1)\n",
    "    \n",
    "    # Initialize possible_tags such that:\n",
    "    #   possible_tags(-1) = possible_tags(0) = ['*']\n",
    "    #   possible_tags(1:n) (inclusive) = ['O', 'I-GENE']\n",
    "    #   possible_tags(n+1) = ['STOP']\n",
    "    possible_tags = [['*']] + [('O', 'I-GENE') for _ in range(n) ] + [['STOP']] + [['*']]\n",
    "    \n",
    "    print 'For k = 1...{}'.format(n)\n",
    "    print\n",
    "    \n",
    "    for k, x in enumerate(xs.split(), start=1):\n",
    "        print '** Time to compute highest_prob(k={}, u, v) for all u in possible_tags({})={} and v in possible_tags({})={}...'.format(k, k-1, possible_tags[k-1], k, possible_tags[k])\n",
    "        print\n",
    "        \n",
    "        for u, v in itertools.product(possible_tags[k-1], possible_tags[k]):\n",
    "            print '    ==========================================================================================================='\n",
    "            print '    Calculating highest_prob(k={}, u={}, v={}) = max over w in possible_tags({})={} of highest_prob({}, w, u={}) * transition(v={} | w, u={}) * emission(x={} | v={})...'.format(k,u,v,k-2,possible_tags[k-2],k-1,u,v,u,x,v)\n",
    "            print\n",
    "            \n",
    "            currents = []\n",
    "            for w in possible_tags[k-2]:\n",
    "                print '    Trying w={}...'.format(w)\n",
    "                print '    Computing highest_prob({}, w={}, u={}) * transition(v={} | w={}, u={}) * emission(x={} | v={}) where:'.format(k-1,w,u,v,w,u,x,v)\n",
    "                print\n",
    "                print '        highest_prob({}, w={}, u={}) = {}'.format(k-1,w,u,highest_prob[k-1][w][u])\n",
    "                print '        transition(v={} | w={}, u={}) = {}'.format(v,w,u,transition[v][w][u])\n",
    "                print '        emission(x={} | v={}) = {}'.format(x,v,emission[x][v])\n",
    "                print\n",
    "                \n",
    "                current = highest_prob[k-1][w][u] * transition[v][w][u] * emission[x][v]\n",
    "                \n",
    "                print '    Result = {}'.format(current)\n",
    "                currents.append((current, w))\n",
    "                print\n",
    "               \n",
    "            print\n",
    "            print '    Highest probability tagging is: {}'.format(max(currents))\n",
    "            print '    ==========================================================================================================='\n",
    "            highest_prob[k][u][v], backpointer[k][u][v] = max(currents)\n",
    "            \n",
    "            print       \n",
    "    \n",
    "    print '** Finally compute max of highest_prob(n={}, u, v) * transition(STOP | u, v) over all u in possible_tags({})={} and v in possible_tags({})={}...'.format(n, n-1, possible_tags[n-1], n, possible_tags[n])\n",
    "    print\n",
    "    \n",
    "    currents = []\n",
    "    for u, v in itertools.product(possible_tags[n-1], possible_tags[n]):\n",
    "        print '    ==========================================================================================================='\n",
    "        print '    Computing highest_prob(n={}, u={}, v={}) * transition(STOP | u={}, v={}) where:'.format(n,u,v,u,v)\n",
    "        print\n",
    "        print '        highest_prob(n={}, u={}, v={}) = {}'.format(n,u,v,highest_prob[n][u][v])\n",
    "        print '        transition(STOP | u={}, v={}) = {}'.format(u,v,transition['STOP'][u][v])\n",
    "        print\n",
    "        \n",
    "        current = highest_prob[n][u][v] * transition['STOP'][u][v]\n",
    "        print '    Result = {}'.format(current)\n",
    "        currents.append((current, u, v))\n",
    "       \n",
    "    print\n",
    "    print '    Highest probability tagging is: {}'.format(max(currents))\n",
    "    print '    ==========================================================================================================='\n",
    "\n",
    "    # Compute Backpoints\n",
    "    _, y[n-1], y[n] = max(currents)\n",
    "    for k in range(n-2, 0, -1):\n",
    "        y[k] = backpointer[k+2][y[k+1]][y[k+2]]\n",
    "        \n",
    "    return y[1:]"
   ]
  },
  {
   "cell_type": "code",
   "execution_count": 200,
   "metadata": {
    "collapsed": false,
    "scrolled": true
   },
   "outputs": [
    {
     "name": "stdout",
     "output_type": "stream",
     "text": [
      "For k = 1...3\n",
      "\n",
      "** Time to compute highest_prob(k=1, u, v) for all u in possible_tags(0)=['*'] and v in possible_tags(1)=('O', 'I-GENE')...\n",
      "\n",
      "    ===========================================================================================================\n",
      "    Calculating highest_prob(k=1, u=*, v=O) = max over w in possible_tags(-1)=['*'] of highest_prob(0, w, u=*) * transition(v=O | w, u=*) * emission(x=gene | v=O)...\n",
      "\n",
      "    Trying w=*...\n",
      "    Computing highest_prob(0, w=*, u=*) * transition(v=O | w=*, u=*) * emission(x=gene | v=O) where:\n",
      "\n",
      "        highest_prob(0, w=*, u=*) = 1\n",
      "        transition(v=O | w=*, u=*) = 0.945708901131\n",
      "        emission(x=gene | v=O) = 0.00165445863564\n",
      "\n",
      "    Result = 0.00156463625827\n",
      "\n",
      "\n",
      "    Highest probability tagging is: (0.0015646362582742211, '*')\n",
      "    ===========================================================================================================\n",
      "\n",
      "    ===========================================================================================================\n",
      "    Calculating highest_prob(k=1, u=*, v=I-GENE) = max over w in possible_tags(-1)=['*'] of highest_prob(0, w, u=*) * transition(v=I-GENE | w, u=*) * emission(x=gene | v=I-GENE)...\n",
      "\n",
      "    Trying w=*...\n",
      "    Computing highest_prob(0, w=*, u=*) * transition(v=I-GENE | w=*, u=*) * emission(x=gene | v=I-GENE) where:\n",
      "\n",
      "        highest_prob(0, w=*, u=*) = 1\n",
      "        transition(v=I-GENE | w=*, u=*) = 0.0542910988692\n",
      "        emission(x=gene | v=I-GENE) = 0.0215718737826\n",
      "\n",
      "    Result = 0.00117116073233\n",
      "\n",
      "\n",
      "    Highest probability tagging is: (0.0011711607323272397, '*')\n",
      "    ===========================================================================================================\n",
      "\n",
      "** Time to compute highest_prob(k=2, u, v) for all u in possible_tags(1)=('O', 'I-GENE') and v in possible_tags(2)=('O', 'I-GENE')...\n",
      "\n",
      "    ===========================================================================================================\n",
      "    Calculating highest_prob(k=2, u=O, v=O) = max over w in possible_tags(0)=['*'] of highest_prob(1, w, u=O) * transition(v=O | w, u=O) * emission(x=gene | v=O)...\n",
      "\n",
      "    Trying w=*...\n",
      "    Computing highest_prob(1, w=*, u=O) * transition(v=O | w=*, u=O) * emission(x=gene | v=O) where:\n",
      "\n",
      "        highest_prob(1, w=*, u=O) = 0.00156463625827\n",
      "        transition(v=O | w=*, u=O) = 0.954319000537\n",
      "        emission(x=gene | v=O) = 0.00165445863564\n",
      "\n",
      "    Result = 2.47037494762e-06\n",
      "\n",
      "\n",
      "    Highest probability tagging is: (2.4703749476249116e-06, '*')\n",
      "    ===========================================================================================================\n",
      "\n",
      "    ===========================================================================================================\n",
      "    Calculating highest_prob(k=2, u=O, v=I-GENE) = max over w in possible_tags(0)=['*'] of highest_prob(1, w, u=O) * transition(v=I-GENE | w, u=O) * emission(x=gene | v=I-GENE)...\n",
      "\n",
      "    Trying w=*...\n",
      "    Computing highest_prob(1, w=*, u=O) * transition(v=I-GENE | w=*, u=O) * emission(x=gene | v=I-GENE) where:\n",
      "\n",
      "        highest_prob(1, w=*, u=O) = 0.00156463625827\n",
      "        transition(v=I-GENE | w=*, u=O) = 0.0454510615467\n",
      "        emission(x=gene | v=I-GENE) = 0.0215718737826\n",
      "\n",
      "    Result = 1.53407040518e-06\n",
      "\n",
      "\n",
      "    Highest probability tagging is: (1.5340704051791373e-06, '*')\n",
      "    ===========================================================================================================\n",
      "\n",
      "    ===========================================================================================================\n",
      "    Calculating highest_prob(k=2, u=I-GENE, v=O) = max over w in possible_tags(0)=['*'] of highest_prob(1, w, u=I-GENE) * transition(v=O | w, u=I-GENE) * emission(x=gene | v=O)...\n",
      "\n",
      "    Trying w=*...\n",
      "    Computing highest_prob(1, w=*, u=I-GENE) * transition(v=O | w=*, u=I-GENE) * emission(x=gene | v=O) where:\n",
      "\n",
      "        highest_prob(1, w=*, u=I-GENE) = 0.00117116073233\n",
      "        transition(v=O | w=*, u=I-GENE) = 0.395193591455\n",
      "        emission(x=gene | v=O) = 0.00165445863564\n",
      "\n",
      "    Result = 7.65741719955e-07\n",
      "\n",
      "\n",
      "    Highest probability tagging is: (7.657417199545105e-07, '*')\n",
      "    ===========================================================================================================\n",
      "\n",
      "    ===========================================================================================================\n",
      "    Calculating highest_prob(k=2, u=I-GENE, v=I-GENE) = max over w in possible_tags(0)=['*'] of highest_prob(1, w, u=I-GENE) * transition(v=I-GENE | w, u=I-GENE) * emission(x=gene | v=I-GENE)...\n",
      "\n",
      "    Trying w=*...\n",
      "    Computing highest_prob(1, w=*, u=I-GENE) * transition(v=I-GENE | w=*, u=I-GENE) * emission(x=gene | v=I-GENE) where:\n",
      "\n",
      "        highest_prob(1, w=*, u=I-GENE) = 0.00117116073233\n",
      "        transition(v=I-GENE | w=*, u=I-GENE) = 0.60347129506\n",
      "        emission(x=gene | v=I-GENE) = 0.0215718737826\n",
      "\n",
      "    Result = 1.5246178153e-05\n",
      "\n",
      "\n",
      "    Highest probability tagging is: (1.5246178153020882e-05, '*')\n",
      "    ===========================================================================================================\n",
      "\n",
      "** Time to compute highest_prob(k=3, u, v) for all u in possible_tags(2)=('O', 'I-GENE') and v in possible_tags(3)=('O', 'I-GENE')...\n",
      "\n",
      "    ===========================================================================================================\n",
      "    Calculating highest_prob(k=3, u=O, v=O) = max over w in possible_tags(1)=('O', 'I-GENE') of highest_prob(2, w, u=O) * transition(v=O | w, u=O) * emission(x=gene | v=O)...\n",
      "\n",
      "    Trying w=O...\n",
      "    Computing highest_prob(2, w=O, u=O) * transition(v=O | w=O, u=O) * emission(x=gene | v=O) where:\n",
      "\n",
      "        highest_prob(2, w=O, u=O) = 2.47037494762e-06\n",
      "        transition(v=O | w=O, u=O) = 0.924645831286\n",
      "        emission(x=gene | v=O) = 0.00165445863564\n",
      "\n",
      "    Result = 3.77915064326e-09\n",
      "\n",
      "    Trying w=I-GENE...\n",
      "    Computing highest_prob(2, w=I-GENE, u=O) * transition(v=O | w=I-GENE, u=O) * emission(x=gene | v=O) where:\n",
      "\n",
      "        highest_prob(2, w=I-GENE, u=O) = 7.65741719955e-07\n",
      "        transition(v=O | w=I-GENE, u=O) = 0.680943214629\n",
      "        emission(x=gene | v=O) = 0.00165445863564\n",
      "\n",
      "    Result = 8.62678788144e-10\n",
      "\n",
      "\n",
      "    Highest probability tagging is: (3.779150643259586e-09, 'O')\n",
      "    ===========================================================================================================\n",
      "\n",
      "    ===========================================================================================================\n",
      "    Calculating highest_prob(k=3, u=O, v=I-GENE) = max over w in possible_tags(1)=('O', 'I-GENE') of highest_prob(2, w, u=O) * transition(v=I-GENE | w, u=O) * emission(x=gene | v=I-GENE)...\n",
      "\n",
      "    Trying w=O...\n",
      "    Computing highest_prob(2, w=O, u=O) * transition(v=I-GENE | w=O, u=O) * emission(x=gene | v=I-GENE) where:\n",
      "\n",
      "        highest_prob(2, w=O, u=O) = 2.47037494762e-06\n",
      "        transition(v=I-GENE | w=O, u=O) = 0.0374187290185\n",
      "        emission(x=gene | v=I-GENE) = 0.0215718737826\n",
      "\n",
      "    Result = 1.99406714051e-09\n",
      "\n",
      "    Trying w=I-GENE...\n",
      "    Computing highest_prob(2, w=I-GENE, u=O) * transition(v=I-GENE | w=I-GENE, u=O) * emission(x=gene | v=I-GENE) where:\n",
      "\n",
      "        highest_prob(2, w=I-GENE, u=O) = 7.65741719955e-07\n",
      "        transition(v=I-GENE | w=I-GENE, u=O) = 0.20999759384\n",
      "        emission(x=gene | v=I-GENE) = 0.0215718737826\n",
      "\n",
      "    Result = 3.46884183781e-09\n",
      "\n",
      "\n",
      "    Highest probability tagging is: (3.468841837808363e-09, 'I-GENE')\n",
      "    ===========================================================================================================\n",
      "\n",
      "    ===========================================================================================================\n",
      "    Calculating highest_prob(k=3, u=I-GENE, v=O) = max over w in possible_tags(1)=('O', 'I-GENE') of highest_prob(2, w, u=I-GENE) * transition(v=O | w, u=I-GENE) * emission(x=gene | v=O)...\n",
      "\n",
      "    Trying w=O...\n",
      "    Computing highest_prob(2, w=O, u=I-GENE) * transition(v=O | w=O, u=I-GENE) * emission(x=gene | v=O) where:\n",
      "\n",
      "        highest_prob(2, w=O, u=I-GENE) = 1.53407040518e-06\n",
      "        transition(v=O | w=O, u=I-GENE) = 0.422079556898\n",
      "        emission(x=gene | v=O) = 0.00165445863564\n",
      "\n",
      "    Result = 1.07126156432e-09\n",
      "\n",
      "    Trying w=I-GENE...\n",
      "    Computing highest_prob(2, w=I-GENE, u=I-GENE) * transition(v=O | w=I-GENE, u=I-GENE) * emission(x=gene | v=O) where:\n",
      "\n",
      "        highest_prob(2, w=I-GENE, u=I-GENE) = 1.5246178153e-05\n",
      "        transition(v=O | w=I-GENE, u=I-GENE) = 0.393779414774\n",
      "        emission(x=gene | v=O) = 0.00165445863564\n",
      "\n",
      "    Result = 9.93275933617e-09\n",
      "\n",
      "\n",
      "    Highest probability tagging is: (9.932759336166874e-09, 'I-GENE')\n",
      "    ===========================================================================================================\n",
      "\n",
      "    ===========================================================================================================\n",
      "    Calculating highest_prob(k=3, u=I-GENE, v=I-GENE) = max over w in possible_tags(1)=('O', 'I-GENE') of highest_prob(2, w, u=I-GENE) * transition(v=I-GENE | w, u=I-GENE) * emission(x=gene | v=I-GENE)...\n",
      "\n",
      "    Trying w=O...\n",
      "    Computing highest_prob(2, w=O, u=I-GENE) * transition(v=I-GENE | w=O, u=I-GENE) * emission(x=gene | v=I-GENE) where:\n",
      "\n",
      "        highest_prob(2, w=O, u=I-GENE) = 1.53407040518e-06\n",
      "        transition(v=I-GENE | w=O, u=I-GENE) = 0.577857502518\n",
      "        emission(x=gene | v=I-GENE) = 0.0215718737826\n",
      "\n",
      "    Result = 1.91229072463e-08\n",
      "\n",
      "    Trying w=I-GENE...\n",
      "    Computing highest_prob(2, w=I-GENE, u=I-GENE) * transition(v=I-GENE | w=I-GENE, u=I-GENE) * emission(x=gene | v=I-GENE) where:\n",
      "\n",
      "        highest_prob(2, w=I-GENE, u=I-GENE) = 1.5246178153e-05\n",
      "        transition(v=I-GENE | w=I-GENE, u=I-GENE) = 0.605770411295\n",
      "        emission(x=gene | v=I-GENE) = 0.0215718737826\n",
      "\n",
      "    Result = 1.99231001141e-07\n",
      "\n",
      "\n",
      "    Highest probability tagging is: (1.992310011405997e-07, 'I-GENE')\n",
      "    ===========================================================================================================\n",
      "\n",
      "** Finally compute max of highest_prob(n=3, u, v) * transition(STOP | u, v) over all u in possible_tags(2)=('O', 'I-GENE') and v in possible_tags(3)=('O', 'I-GENE')...\n",
      "\n",
      "    ===========================================================================================================\n",
      "    Computing highest_prob(n=3, u=O, v=O) * transition(STOP | u=O, v=O) where:\n",
      "\n",
      "        highest_prob(n=3, u=O, v=O) = 3.77915064326e-09\n",
      "        transition(STOP | u=O, v=O) = 0.0379354396954\n",
      "\n",
      "    Result = 1.43363741327e-10\n",
      "    ===========================================================================================================\n",
      "    Computing highest_prob(n=3, u=O, v=I-GENE) * transition(STOP | u=O, v=I-GENE) where:\n",
      "\n",
      "        highest_prob(n=3, u=O, v=I-GENE) = 3.46884183781e-09\n",
      "        transition(STOP | u=O, v=I-GENE) = 6.29405840886e-05\n",
      "\n",
      "    Result = 2.18330931383e-13\n",
      "    ===========================================================================================================\n",
      "    Computing highest_prob(n=3, u=I-GENE, v=O) * transition(STOP | u=I-GENE, v=O) where:\n",
      "\n",
      "        highest_prob(n=3, u=I-GENE, v=O) = 9.93275933617e-09\n",
      "        transition(STOP | u=I-GENE, v=O) = 0.10905919153\n",
      "\n",
      "    Result = 1.08325870287e-09\n",
      "    ===========================================================================================================\n",
      "    Computing highest_prob(n=3, u=I-GENE, v=I-GENE) * transition(STOP | u=I-GENE, v=I-GENE) where:\n",
      "\n",
      "        highest_prob(n=3, u=I-GENE, v=I-GENE) = 1.99231001141e-07\n",
      "        transition(STOP | u=I-GENE, v=I-GENE) = 0.000450173930837\n",
      "\n",
      "    Result = 8.9688602928e-11\n",
      "\n",
      "    Highest probability tagging is: (1.0832587028675734e-09, 'I-GENE', 'O')\n",
      "    ===========================================================================================================\n"
     ]
    },
    {
     "data": {
      "text/plain": [
       "['I-GENE', 'I-GENE', 'O']"
      ]
     },
     "execution_count": 200,
     "metadata": {},
     "output_type": "execute_result"
    }
   ],
   "source": [
    "viterbi('gene gene gene', q, e)"
   ]
  },
  {
   "cell_type": "code",
   "execution_count": null,
   "metadata": {
    "collapsed": true
   },
   "outputs": [],
   "source": []
  }
 ],
 "metadata": {
  "kernelspec": {
   "display_name": "Python 2",
   "language": "python",
   "name": "python2"
  },
  "language_info": {
   "codemirror_mode": {
    "name": "ipython",
    "version": 2
   },
   "file_extension": ".py",
   "mimetype": "text/x-python",
   "name": "python",
   "nbconvert_exporter": "python",
   "pygments_lexer": "ipython2",
   "version": "2.7.6"
  }
 },
 "nbformat": 4,
 "nbformat_minor": 0
}
