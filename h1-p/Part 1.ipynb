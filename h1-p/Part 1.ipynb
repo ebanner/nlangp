{
 "cells": [
  {
   "cell_type": "markdown",
   "metadata": {},
   "source": [
    "# Compute Counts From Scratch"
   ]
  },
  {
   "cell_type": "code",
   "execution_count": 177,
   "metadata": {
    "collapsed": false
   },
   "outputs": [],
   "source": [
    "!python count_freqs.py gene.train > gene.counts"
   ]
  },
  {
   "cell_type": "markdown",
   "metadata": {},
   "source": [
    "# Fetch NGram Counts"
   ]
  },
  {
   "cell_type": "code",
   "execution_count": 178,
   "metadata": {
    "collapsed": true
   },
   "outputs": [],
   "source": [
    "import pandas as pd\n",
    "\n",
    "df = pd.read_csv('gene.ngrams', sep=' ', names=['Count', 'NGram', 'One', 'Two', 'Three'])"
   ]
  },
  {
   "cell_type": "markdown",
   "metadata": {},
   "source": [
    "# Unigram Tag Counts"
   ]
  },
  {
   "cell_type": "code",
   "execution_count": 179,
   "metadata": {
    "collapsed": true
   },
   "outputs": [],
   "source": [
    "counts = {}\n",
    "\n",
    "for tag, count in df[df['NGram'] == '1-GRAM'][['One', 'Count']].values:\n",
    "    counts[tag] = count"
   ]
  },
  {
   "cell_type": "markdown",
   "metadata": {},
   "source": [
    "# Reference Counts"
   ]
  },
  {
   "cell_type": "code",
   "execution_count": 180,
   "metadata": {
    "collapsed": true
   },
   "outputs": [],
   "source": [
    "import pandas as pd\n",
    "\n",
    "df = pd.read_csv('gene.counts', sep=' ', names=['Count', 'WORDTAG', 'Tag', 'Token'])"
   ]
  },
  {
   "cell_type": "code",
   "execution_count": 202,
   "metadata": {
    "collapsed": false
   },
   "outputs": [
    {
     "data": {
      "text/html": [
       "<div style=\"max-height:1000px;max-width:1500px;overflow:auto;\">\n",
       "<table border=\"1\" class=\"dataframe\">\n",
       "  <thead>\n",
       "    <tr style=\"text-align: right;\">\n",
       "      <th></th>\n",
       "      <th>Count</th>\n",
       "      <th>WORDTAG</th>\n",
       "      <th>Tag</th>\n",
       "      <th>Token</th>\n",
       "    </tr>\n",
       "  </thead>\n",
       "  <tbody>\n",
       "    <tr>\n",
       "      <th>8876</th>\n",
       "      <td>4395</td>\n",
       "      <td>WORDTAG</td>\n",
       "      <td>I-GENE</td>\n",
       "      <td>-</td>\n",
       "    </tr>\n",
       "    <tr>\n",
       "      <th>8563</th>\n",
       "      <td>886</td>\n",
       "      <td>WORDTAG</td>\n",
       "      <td>I-GENE</td>\n",
       "      <td>gene</td>\n",
       "    </tr>\n",
       "    <tr>\n",
       "      <th>22184</th>\n",
       "      <td>879</td>\n",
       "      <td>WORDTAG</td>\n",
       "      <td>I-GENE</td>\n",
       "      <td>1</td>\n",
       "    </tr>\n",
       "    <tr>\n",
       "      <th>8418</th>\n",
       "      <td>800</td>\n",
       "      <td>WORDTAG</td>\n",
       "      <td>I-GENE</td>\n",
       "      <td>protein</td>\n",
       "    </tr>\n",
       "    <tr>\n",
       "      <th>1174</th>\n",
       "      <td>423</td>\n",
       "      <td>WORDTAG</td>\n",
       "      <td>I-GENE</td>\n",
       "      <td>kinase</td>\n",
       "    </tr>\n",
       "    <tr>\n",
       "      <th>2785</th>\n",
       "      <td>373</td>\n",
       "      <td>WORDTAG</td>\n",
       "      <td>I-GENE</td>\n",
       "      <td>2</td>\n",
       "    </tr>\n",
       "    <tr>\n",
       "      <th>5454</th>\n",
       "      <td>369</td>\n",
       "      <td>WORDTAG</td>\n",
       "      <td>I-GENE</td>\n",
       "      <td>factor</td>\n",
       "    </tr>\n",
       "    <tr>\n",
       "      <th>15330</th>\n",
       "      <td>321</td>\n",
       "      <td>WORDTAG</td>\n",
       "      <td>I-GENE</td>\n",
       "      <td>beta</td>\n",
       "    </tr>\n",
       "    <tr>\n",
       "      <th>11190</th>\n",
       "      <td>310</td>\n",
       "      <td>WORDTAG</td>\n",
       "      <td>I-GENE</td>\n",
       "      <td>promoter</td>\n",
       "    </tr>\n",
       "    <tr>\n",
       "      <th>12300</th>\n",
       "      <td>275</td>\n",
       "      <td>WORDTAG</td>\n",
       "      <td>I-GENE</td>\n",
       "      <td>binding</td>\n",
       "    </tr>\n",
       "    <tr>\n",
       "      <th>3616</th>\n",
       "      <td>251</td>\n",
       "      <td>WORDTAG</td>\n",
       "      <td>I-GENE</td>\n",
       "      <td>c</td>\n",
       "    </tr>\n",
       "    <tr>\n",
       "      <th>7842</th>\n",
       "      <td>233</td>\n",
       "      <td>WORDTAG</td>\n",
       "      <td>I-GENE</td>\n",
       "      <td>proteins</td>\n",
       "    </tr>\n",
       "    <tr>\n",
       "      <th>1018</th>\n",
       "      <td>227</td>\n",
       "      <td>WORDTAG</td>\n",
       "      <td>I-GENE</td>\n",
       "      <td>/</td>\n",
       "    </tr>\n",
       "    <tr>\n",
       "      <th>1724</th>\n",
       "      <td>215</td>\n",
       "      <td>WORDTAG</td>\n",
       "      <td>I-GENE</td>\n",
       "      <td>3</td>\n",
       "    </tr>\n",
       "    <tr>\n",
       "      <th>18514</th>\n",
       "      <td>214</td>\n",
       "      <td>WORDTAG</td>\n",
       "      <td>I-GENE</td>\n",
       "      <td>)</td>\n",
       "    </tr>\n",
       "    <tr>\n",
       "      <th>7657</th>\n",
       "      <td>210</td>\n",
       "      <td>WORDTAG</td>\n",
       "      <td>I-GENE</td>\n",
       "      <td>C</td>\n",
       "    </tr>\n",
       "    <tr>\n",
       "      <th>3471</th>\n",
       "      <td>190</td>\n",
       "      <td>WORDTAG</td>\n",
       "      <td>I-GENE</td>\n",
       "      <td>genes</td>\n",
       "    </tr>\n",
       "    <tr>\n",
       "      <th>14569</th>\n",
       "      <td>167</td>\n",
       "      <td>WORDTAG</td>\n",
       "      <td>I-GENE</td>\n",
       "      <td>B</td>\n",
       "    </tr>\n",
       "    <tr>\n",
       "      <th>14920</th>\n",
       "      <td>165</td>\n",
       "      <td>WORDTAG</td>\n",
       "      <td>I-GENE</td>\n",
       "      <td>.</td>\n",
       "    </tr>\n",
       "    <tr>\n",
       "      <th>4081</th>\n",
       "      <td>146</td>\n",
       "      <td>WORDTAG</td>\n",
       "      <td>I-GENE</td>\n",
       "      <td>RNA</td>\n",
       "    </tr>\n",
       "    <tr>\n",
       "      <th>14417</th>\n",
       "      <td>145</td>\n",
       "      <td>WORDTAG</td>\n",
       "      <td>I-GENE</td>\n",
       "      <td>A</td>\n",
       "    </tr>\n",
       "    <tr>\n",
       "      <th>2097</th>\n",
       "      <td>145</td>\n",
       "      <td>WORDTAG</td>\n",
       "      <td>I-GENE</td>\n",
       "      <td>mRNA</td>\n",
       "    </tr>\n",
       "    <tr>\n",
       "      <th>17320</th>\n",
       "      <td>143</td>\n",
       "      <td>WORDTAG</td>\n",
       "      <td>I-GENE</td>\n",
       "      <td>domain</td>\n",
       "    </tr>\n",
       "    <tr>\n",
       "      <th>9403</th>\n",
       "      <td>139</td>\n",
       "      <td>WORDTAG</td>\n",
       "      <td>I-GENE</td>\n",
       "      <td>type</td>\n",
       "    </tr>\n",
       "    <tr>\n",
       "      <th>7049</th>\n",
       "      <td>134</td>\n",
       "      <td>WORDTAG</td>\n",
       "      <td>I-GENE</td>\n",
       "      <td>and</td>\n",
       "    </tr>\n",
       "    <tr>\n",
       "      <th>20519</th>\n",
       "      <td>134</td>\n",
       "      <td>WORDTAG</td>\n",
       "      <td>I-GENE</td>\n",
       "      <td>II</td>\n",
       "    </tr>\n",
       "    <tr>\n",
       "      <th>1037</th>\n",
       "      <td>124</td>\n",
       "      <td>WORDTAG</td>\n",
       "      <td>I-GENE</td>\n",
       "      <td>IL</td>\n",
       "    </tr>\n",
       "    <tr>\n",
       "      <th>801</th>\n",
       "      <td>120</td>\n",
       "      <td>WORDTAG</td>\n",
       "      <td>I-GENE</td>\n",
       "      <td>NF</td>\n",
       "    </tr>\n",
       "    <tr>\n",
       "      <th>5931</th>\n",
       "      <td>110</td>\n",
       "      <td>WORDTAG</td>\n",
       "      <td>I-GENE</td>\n",
       "      <td>5</td>\n",
       "    </tr>\n",
       "    <tr>\n",
       "      <th>12060</th>\n",
       "      <td>108</td>\n",
       "      <td>WORDTAG</td>\n",
       "      <td>I-GENE</td>\n",
       "      <td>AP</td>\n",
       "    </tr>\n",
       "    <tr>\n",
       "      <th>...</th>\n",
       "      <td>...</td>\n",
       "      <td>...</td>\n",
       "      <td>...</td>\n",
       "      <td>...</td>\n",
       "    </tr>\n",
       "    <tr>\n",
       "      <th>11246</th>\n",
       "      <td>1</td>\n",
       "      <td>WORDTAG</td>\n",
       "      <td>I-GENE</td>\n",
       "      <td>griseus</td>\n",
       "    </tr>\n",
       "    <tr>\n",
       "      <th>11357</th>\n",
       "      <td>1</td>\n",
       "      <td>WORDTAG</td>\n",
       "      <td>I-GENE</td>\n",
       "      <td>XFGF3</td>\n",
       "    </tr>\n",
       "    <tr>\n",
       "      <th>11243</th>\n",
       "      <td>1</td>\n",
       "      <td>WORDTAG</td>\n",
       "      <td>I-GENE</td>\n",
       "      <td>leu1</td>\n",
       "    </tr>\n",
       "    <tr>\n",
       "      <th>11242</th>\n",
       "      <td>1</td>\n",
       "      <td>WORDTAG</td>\n",
       "      <td>I-GENE</td>\n",
       "      <td>p47phox</td>\n",
       "    </tr>\n",
       "    <tr>\n",
       "      <th>11232</th>\n",
       "      <td>1</td>\n",
       "      <td>WORDTAG</td>\n",
       "      <td>I-GENE</td>\n",
       "      <td>ERabp1</td>\n",
       "    </tr>\n",
       "    <tr>\n",
       "      <th>11229</th>\n",
       "      <td>1</td>\n",
       "      <td>WORDTAG</td>\n",
       "      <td>I-GENE</td>\n",
       "      <td>orbiculare</td>\n",
       "    </tr>\n",
       "    <tr>\n",
       "      <th>11225</th>\n",
       "      <td>1</td>\n",
       "      <td>WORDTAG</td>\n",
       "      <td>I-GENE</td>\n",
       "      <td>Val135</td>\n",
       "    </tr>\n",
       "    <tr>\n",
       "      <th>11217</th>\n",
       "      <td>1</td>\n",
       "      <td>WORDTAG</td>\n",
       "      <td>I-GENE</td>\n",
       "      <td>antistreptolysin</td>\n",
       "    </tr>\n",
       "    <tr>\n",
       "      <th>11211</th>\n",
       "      <td>1</td>\n",
       "      <td>WORDTAG</td>\n",
       "      <td>I-GENE</td>\n",
       "      <td>HOX</td>\n",
       "    </tr>\n",
       "    <tr>\n",
       "      <th>11354</th>\n",
       "      <td>1</td>\n",
       "      <td>WORDTAG</td>\n",
       "      <td>I-GENE</td>\n",
       "      <td>Cystatin</td>\n",
       "    </tr>\n",
       "    <tr>\n",
       "      <th>11378</th>\n",
       "      <td>1</td>\n",
       "      <td>WORDTAG</td>\n",
       "      <td>I-GENE</td>\n",
       "      <td>derivatives</td>\n",
       "    </tr>\n",
       "    <tr>\n",
       "      <th>11497</th>\n",
       "      <td>1</td>\n",
       "      <td>WORDTAG</td>\n",
       "      <td>I-GENE</td>\n",
       "      <td>CKB</td>\n",
       "    </tr>\n",
       "    <tr>\n",
       "      <th>11468</th>\n",
       "      <td>1</td>\n",
       "      <td>WORDTAG</td>\n",
       "      <td>I-GENE</td>\n",
       "      <td>Tf1</td>\n",
       "    </tr>\n",
       "    <tr>\n",
       "      <th>11496</th>\n",
       "      <td>1</td>\n",
       "      <td>WORDTAG</td>\n",
       "      <td>I-GENE</td>\n",
       "      <td>gcd2</td>\n",
       "    </tr>\n",
       "    <tr>\n",
       "      <th>11489</th>\n",
       "      <td>1</td>\n",
       "      <td>WORDTAG</td>\n",
       "      <td>I-GENE</td>\n",
       "      <td>101</td>\n",
       "    </tr>\n",
       "    <tr>\n",
       "      <th>11488</th>\n",
       "      <td>1</td>\n",
       "      <td>WORDTAG</td>\n",
       "      <td>I-GENE</td>\n",
       "      <td>potassium</td>\n",
       "    </tr>\n",
       "    <tr>\n",
       "      <th>11486</th>\n",
       "      <td>1</td>\n",
       "      <td>WORDTAG</td>\n",
       "      <td>I-GENE</td>\n",
       "      <td>CD69</td>\n",
       "    </tr>\n",
       "    <tr>\n",
       "      <th>11482</th>\n",
       "      <td>1</td>\n",
       "      <td>WORDTAG</td>\n",
       "      <td>I-GENE</td>\n",
       "      <td>VPS1</td>\n",
       "    </tr>\n",
       "    <tr>\n",
       "      <th>11481</th>\n",
       "      <td>1</td>\n",
       "      <td>WORDTAG</td>\n",
       "      <td>I-GENE</td>\n",
       "      <td>HSAP</td>\n",
       "    </tr>\n",
       "    <tr>\n",
       "      <th>11480</th>\n",
       "      <td>1</td>\n",
       "      <td>WORDTAG</td>\n",
       "      <td>I-GENE</td>\n",
       "      <td>CRP1</td>\n",
       "    </tr>\n",
       "    <tr>\n",
       "      <th>11465</th>\n",
       "      <td>1</td>\n",
       "      <td>WORDTAG</td>\n",
       "      <td>I-GENE</td>\n",
       "      <td>CC</td>\n",
       "    </tr>\n",
       "    <tr>\n",
       "      <th>11382</th>\n",
       "      <td>1</td>\n",
       "      <td>WORDTAG</td>\n",
       "      <td>I-GENE</td>\n",
       "      <td>rnu</td>\n",
       "    </tr>\n",
       "    <tr>\n",
       "      <th>11445</th>\n",
       "      <td>1</td>\n",
       "      <td>WORDTAG</td>\n",
       "      <td>I-GENE</td>\n",
       "      <td>SPP91</td>\n",
       "    </tr>\n",
       "    <tr>\n",
       "      <th>11433</th>\n",
       "      <td>1</td>\n",
       "      <td>WORDTAG</td>\n",
       "      <td>I-GENE</td>\n",
       "      <td>adrenoreceptors</td>\n",
       "    </tr>\n",
       "    <tr>\n",
       "      <th>11426</th>\n",
       "      <td>1</td>\n",
       "      <td>WORDTAG</td>\n",
       "      <td>I-GENE</td>\n",
       "      <td>VirF</td>\n",
       "    </tr>\n",
       "    <tr>\n",
       "      <th>11423</th>\n",
       "      <td>1</td>\n",
       "      <td>WORDTAG</td>\n",
       "      <td>I-GENE</td>\n",
       "      <td>Lysozyme</td>\n",
       "    </tr>\n",
       "    <tr>\n",
       "      <th>11398</th>\n",
       "      <td>1</td>\n",
       "      <td>WORDTAG</td>\n",
       "      <td>I-GENE</td>\n",
       "      <td>satellite</td>\n",
       "    </tr>\n",
       "    <tr>\n",
       "      <th>11390</th>\n",
       "      <td>1</td>\n",
       "      <td>WORDTAG</td>\n",
       "      <td>I-GENE</td>\n",
       "      <td>SAS4</td>\n",
       "    </tr>\n",
       "    <tr>\n",
       "      <th>11388</th>\n",
       "      <td>1</td>\n",
       "      <td>WORDTAG</td>\n",
       "      <td>I-GENE</td>\n",
       "      <td>E74</td>\n",
       "    </tr>\n",
       "    <tr>\n",
       "      <th>27022</th>\n",
       "      <td>1</td>\n",
       "      <td>WORDTAG</td>\n",
       "      <td>I-GENE</td>\n",
       "      <td>modulatory</td>\n",
       "    </tr>\n",
       "  </tbody>\n",
       "</table>\n",
       "<p>6840 rows × 4 columns</p>\n",
       "</div>"
      ],
      "text/plain": [
       "       Count  WORDTAG     Tag             Token\n",
       "8876    4395  WORDTAG  I-GENE                 -\n",
       "8563     886  WORDTAG  I-GENE              gene\n",
       "22184    879  WORDTAG  I-GENE                 1\n",
       "8418     800  WORDTAG  I-GENE           protein\n",
       "1174     423  WORDTAG  I-GENE            kinase\n",
       "2785     373  WORDTAG  I-GENE                 2\n",
       "5454     369  WORDTAG  I-GENE            factor\n",
       "15330    321  WORDTAG  I-GENE              beta\n",
       "11190    310  WORDTAG  I-GENE          promoter\n",
       "12300    275  WORDTAG  I-GENE           binding\n",
       "3616     251  WORDTAG  I-GENE                 c\n",
       "7842     233  WORDTAG  I-GENE          proteins\n",
       "1018     227  WORDTAG  I-GENE                 /\n",
       "1724     215  WORDTAG  I-GENE                 3\n",
       "18514    214  WORDTAG  I-GENE                 )\n",
       "7657     210  WORDTAG  I-GENE                 C\n",
       "3471     190  WORDTAG  I-GENE             genes\n",
       "14569    167  WORDTAG  I-GENE                 B\n",
       "14920    165  WORDTAG  I-GENE                 .\n",
       "4081     146  WORDTAG  I-GENE               RNA\n",
       "14417    145  WORDTAG  I-GENE                 A\n",
       "2097     145  WORDTAG  I-GENE              mRNA\n",
       "17320    143  WORDTAG  I-GENE            domain\n",
       "9403     139  WORDTAG  I-GENE              type\n",
       "7049     134  WORDTAG  I-GENE               and\n",
       "20519    134  WORDTAG  I-GENE                II\n",
       "1037     124  WORDTAG  I-GENE                IL\n",
       "801      120  WORDTAG  I-GENE                NF\n",
       "5931     110  WORDTAG  I-GENE                 5\n",
       "12060    108  WORDTAG  I-GENE                AP\n",
       "...      ...      ...     ...               ...\n",
       "11246      1  WORDTAG  I-GENE           griseus\n",
       "11357      1  WORDTAG  I-GENE             XFGF3\n",
       "11243      1  WORDTAG  I-GENE              leu1\n",
       "11242      1  WORDTAG  I-GENE           p47phox\n",
       "11232      1  WORDTAG  I-GENE            ERabp1\n",
       "11229      1  WORDTAG  I-GENE        orbiculare\n",
       "11225      1  WORDTAG  I-GENE            Val135\n",
       "11217      1  WORDTAG  I-GENE  antistreptolysin\n",
       "11211      1  WORDTAG  I-GENE               HOX\n",
       "11354      1  WORDTAG  I-GENE          Cystatin\n",
       "11378      1  WORDTAG  I-GENE       derivatives\n",
       "11497      1  WORDTAG  I-GENE               CKB\n",
       "11468      1  WORDTAG  I-GENE               Tf1\n",
       "11496      1  WORDTAG  I-GENE              gcd2\n",
       "11489      1  WORDTAG  I-GENE               101\n",
       "11488      1  WORDTAG  I-GENE         potassium\n",
       "11486      1  WORDTAG  I-GENE              CD69\n",
       "11482      1  WORDTAG  I-GENE              VPS1\n",
       "11481      1  WORDTAG  I-GENE              HSAP\n",
       "11480      1  WORDTAG  I-GENE              CRP1\n",
       "11465      1  WORDTAG  I-GENE                CC\n",
       "11382      1  WORDTAG  I-GENE               rnu\n",
       "11445      1  WORDTAG  I-GENE             SPP91\n",
       "11433      1  WORDTAG  I-GENE   adrenoreceptors\n",
       "11426      1  WORDTAG  I-GENE              VirF\n",
       "11423      1  WORDTAG  I-GENE          Lysozyme\n",
       "11398      1  WORDTAG  I-GENE         satellite\n",
       "11390      1  WORDTAG  I-GENE              SAS4\n",
       "11388      1  WORDTAG  I-GENE               E74\n",
       "27022      1  WORDTAG  I-GENE        modulatory\n",
       "\n",
       "[6840 rows x 4 columns]"
      ]
     },
     "execution_count": 202,
     "metadata": {},
     "output_type": "execute_result"
    }
   ],
   "source": [
    "df[df['Tag'] == 'I-GENE'].sort('Count', ascending=False)"
   ]
  },
  {
   "cell_type": "markdown",
   "metadata": {},
   "source": [
    "# Compile Token Counts"
   ]
  },
  {
   "cell_type": "code",
   "execution_count": 182,
   "metadata": {
    "collapsed": true
   },
   "outputs": [],
   "source": [
    "with open('gene.counts', 'r') as f:\n",
    "    lines = f.readlines()"
   ]
  },
  {
   "cell_type": "code",
   "execution_count": 183,
   "metadata": {
    "collapsed": false,
    "scrolled": true
   },
   "outputs": [],
   "source": [
    "from collections import defaultdict\n",
    "\n",
    "c = defaultdict(lambda: defaultdict(int))\n",
    "\n",
    "for line in lines:\n",
    "    count, _, tag, token = line.split()\n",
    "    c[token][tag] = int(count)"
   ]
  },
  {
   "cell_type": "markdown",
   "metadata": {},
   "source": [
    "# Find Infrequent Words"
   ]
  },
  {
   "cell_type": "code",
   "execution_count": 184,
   "metadata": {
    "collapsed": false
   },
   "outputs": [],
   "source": [
    "infrequent_words = set()\n",
    "\n",
    "for token in c:\n",
    "    if c[token]['O'] + c[token]['I-GENE'] < 5:\n",
    "        infrequent_words.add(token)"
   ]
  },
  {
   "cell_type": "markdown",
   "metadata": {},
   "source": [
    "# Write Infrequent Words Back To Disk"
   ]
  },
  {
   "cell_type": "code",
   "execution_count": 185,
   "metadata": {
    "collapsed": false
   },
   "outputs": [],
   "source": [
    "with open('gene.count+infrequents', 'w') as f:\n",
    "    for line in lines:\n",
    "        count, WORDTAG, tag, token = line.split()\n",
    "        \n",
    "        if token in infrequent_words:\n",
    "            f.write(' '.join([count, WORDTAG, tag, '_RARE_']) + '\\n')\n",
    "        else:\n",
    "            f.write(line)"
   ]
  },
  {
   "cell_type": "markdown",
   "metadata": {},
   "source": [
    "# Recompute Counts with Infrequent Word Class"
   ]
  },
  {
   "cell_type": "code",
   "execution_count": 186,
   "metadata": {
    "collapsed": false
   },
   "outputs": [],
   "source": [
    "with open('gene.count+infrequents', 'r') as f:\n",
    "    lines = f.readlines()  "
   ]
  },
  {
   "cell_type": "code",
   "execution_count": 187,
   "metadata": {
    "collapsed": true
   },
   "outputs": [],
   "source": [
    "c = defaultdict(lambda: defaultdict(int))\n",
    "\n",
    "for line in lines:\n",
    "    count, _, tag, token = line.split()\n",
    "    c[token][tag] += int(count)"
   ]
  },
  {
   "cell_type": "markdown",
   "metadata": {},
   "source": [
    "# Append Infrequent Word Count"
   ]
  },
  {
   "cell_type": "code",
   "execution_count": 188,
   "metadata": {
    "collapsed": false
   },
   "outputs": [],
   "source": [
    "with open('gene.counts', 'a') as f:\n",
    "    for tag in c['_RARE_']:\n",
    "        f.write(' '.join([str(c['_RARE_'][tag]), 'WORDTAG', tag, '_RARE_']) + '\\n')"
   ]
  },
  {
   "cell_type": "markdown",
   "metadata": {
    "collapsed": true
   },
   "source": [
    "# Read All Words Back in One More Time"
   ]
  },
  {
   "cell_type": "code",
   "execution_count": 189,
   "metadata": {
    "collapsed": true
   },
   "outputs": [],
   "source": [
    "with open('gene.counts', 'r') as f:\n",
    "    lines = f.readlines()"
   ]
  },
  {
   "cell_type": "code",
   "execution_count": 190,
   "metadata": {
    "collapsed": true
   },
   "outputs": [],
   "source": [
    "from collections import defaultdict\n",
    "\n",
    "for line in lines:\n",
    "    count, _, tag, token = line.split()\n",
    "    c[token][tag] = int(count)"
   ]
  },
  {
   "cell_type": "markdown",
   "metadata": {},
   "source": [
    "# Compute Emission Probabilities"
   ]
  },
  {
   "cell_type": "code",
   "execution_count": 191,
   "metadata": {
    "collapsed": true
   },
   "outputs": [],
   "source": [
    "e = defaultdict(lambda: defaultdict(int))\n",
    "\n",
    "for token in c:\n",
    "    for tag in c[token]:\n",
    "        e[token][tag] = c[token][tag] / float(counts[tag])"
   ]
  },
  {
   "cell_type": "code",
   "execution_count": 192,
   "metadata": {
    "collapsed": false
   },
   "outputs": [
    {
     "data": {
      "text/plain": [
       "defaultdict(<type 'int'>, {'I-GENE': 8732, 'O': 28781})"
      ]
     },
     "execution_count": 192,
     "metadata": {},
     "output_type": "execute_result"
    }
   ],
   "source": [
    "c['_RARE_']"
   ]
  },
  {
   "cell_type": "markdown",
   "metadata": {},
   "source": [
    "# Baseline Simple Tagger"
   ]
  },
  {
   "cell_type": "code",
   "execution_count": 193,
   "metadata": {
    "collapsed": true
   },
   "outputs": [],
   "source": [
    "with open('gene.test', 'r') as f:\n",
    "    tokens = [ line.strip() for line in f.readlines() ]"
   ]
  },
  {
   "cell_type": "markdown",
   "metadata": {},
   "source": [
    "# Tag Each Word with $\\arg \\max_y e(x|y)$"
   ]
  },
  {
   "cell_type": "code",
   "execution_count": 194,
   "metadata": {
    "collapsed": false
   },
   "outputs": [],
   "source": [
    "predictions = [''] * len(tokens)\n",
    "\n",
    "for i, token in enumerate(tokens):\n",
    "    \n",
    "    # Empty line?\n",
    "    if not token:\n",
    "        predictions[i] = ('', '')\n",
    "        continue\n",
    "    \n",
    "    # Infrequent token or OOV?\n",
    "    if token in infrequent_words or not e[token]:\n",
    "        identity = '_RARE_'\n",
    "    else:\n",
    "        identity = token\n",
    "    \n",
    "    # Tag word with the tag that gives it the highest emission probability\n",
    "    predictions[i] = (token, 'O' if e[identity]['O'] > e[identity]['I-GENE'] else 'I-GENE')"
   ]
  },
  {
   "cell_type": "markdown",
   "metadata": {},
   "source": [
    "# Write Predictions Back to Disk"
   ]
  },
  {
   "cell_type": "code",
   "execution_count": 199,
   "metadata": {
    "collapsed": false
   },
   "outputs": [],
   "source": [
    "with open('gene_test.p1.out', 'w') as f:\n",
    "    for prediction in predictions:\n",
    "        f.write(' '.join(prediction).strip() + '\\n')"
   ]
  },
  {
   "cell_type": "markdown",
   "metadata": {},
   "source": [
    "# Submission"
   ]
  },
  {
   "cell_type": "code",
   "execution_count": 198,
   "metadata": {
    "collapsed": false
   },
   "outputs": [
    {
     "name": "stdout",
     "output_type": "stream",
     "text": [
      "==\n",
      "== [sandbox] Submitting Solutions \n",
      "==\n",
      "Login (Email address): edward.banner@gmail.com\n",
      "One-time Password (from the assignment page. This is NOT your own account's password): ewhjcS9vbH\n",
      "\n",
      "== Connecting to Coursera ... \n",
      "Hello! These are the assignment parts that you can submit:\n",
      "1) Unigram Tagger\n",
      "2) Trigram Tagger\n",
      "3) Extended Tagger\n",
      "Please enter which part you want to submit (1-3): 1\n",
      "File gene_test.p1.out not found\n"
     ]
    },
    {
     "ename": "NameError",
     "evalue": "global name 'exit' is not defined",
     "output_type": "error",
     "traceback": [
      "\u001b[1;31m---------------------------------------------------------------------------\u001b[0m",
      "\u001b[1;31mNameError\u001b[0m                                 Traceback (most recent call last)",
      "\u001b[1;32m/home/edward/Classes/nlangp/h1-p/submit.py\u001b[0m in \u001b[0;36m<module>\u001b[1;34m()\u001b[0m\n\u001b[0;32m    154\u001b[0m     \u001b[0mexit\u001b[0m\u001b[1;33m(\u001b[0m\u001b[1;33m)\u001b[0m\u001b[1;33m\u001b[0m\u001b[0m\n\u001b[0;32m    155\u001b[0m \u001b[1;33m\u001b[0m\u001b[0m\n\u001b[1;32m--> 156\u001b[1;33m \u001b[0msubmit\u001b[0m\u001b[1;33m(\u001b[0m\u001b[1;33m)\u001b[0m\u001b[1;33m\u001b[0m\u001b[0m\n\u001b[0m",
      "\u001b[1;32m/home/edward/Classes/nlangp/h1-p/submit.py\u001b[0m in \u001b[0;36msubmit\u001b[1;34m()\u001b[0m\n\u001b[0;32m     41\u001b[0m   \u001b[1;31m# Attempt Submission with Challenge\u001b[0m\u001b[1;33m\u001b[0m\u001b[1;33m\u001b[0m\u001b[0m\n\u001b[0;32m     42\u001b[0m   \u001b[0mch_resp\u001b[0m \u001b[1;33m=\u001b[0m \u001b[0mchallengeResponse\u001b[0m\u001b[1;33m(\u001b[0m\u001b[0mlogin\u001b[0m\u001b[1;33m,\u001b[0m \u001b[0mpassword\u001b[0m\u001b[1;33m,\u001b[0m \u001b[0mch\u001b[0m\u001b[1;33m)\u001b[0m\u001b[1;33m\u001b[0m\u001b[0m\n\u001b[1;32m---> 43\u001b[1;33m   (result, string) = submitSolution(login, ch_resp, sid, output(partIdx), \\\n\u001b[0m\u001b[0;32m     44\u001b[0m                                   source(partIdx), state, ch_aux)\n\u001b[0;32m     45\u001b[0m \u001b[1;33m\u001b[0m\u001b[0m\n",
      "\u001b[1;32m/home/edward/Classes/nlangp/h1-p/submit.py\u001b[0m in \u001b[0;36moutput\u001b[1;34m(partIdx)\u001b[0m\n\u001b[0;32m    152\u001b[0m   \u001b[1;32mexcept\u001b[0m\u001b[1;33m:\u001b[0m\u001b[1;33m\u001b[0m\u001b[0m\n\u001b[0;32m    153\u001b[0m     \u001b[1;32mprint\u001b[0m \u001b[1;34m\"File gene_test.p%d.out not found\"\u001b[0m\u001b[1;33m%\u001b[0m\u001b[1;33m(\u001b[0m\u001b[0mpartIdx\u001b[0m \u001b[1;33m+\u001b[0m \u001b[1;36m1\u001b[0m\u001b[1;33m)\u001b[0m\u001b[1;33m\u001b[0m\u001b[0m\n\u001b[1;32m--> 154\u001b[1;33m     \u001b[0mexit\u001b[0m\u001b[1;33m(\u001b[0m\u001b[1;33m)\u001b[0m\u001b[1;33m\u001b[0m\u001b[0m\n\u001b[0m\u001b[0;32m    155\u001b[0m \u001b[1;33m\u001b[0m\u001b[0m\n\u001b[0;32m    156\u001b[0m \u001b[0msubmit\u001b[0m\u001b[1;33m(\u001b[0m\u001b[1;33m)\u001b[0m\u001b[1;33m\u001b[0m\u001b[0m\n",
      "\u001b[1;31mNameError\u001b[0m: global name 'exit' is not defined"
     ]
    }
   ],
   "source": [
    "run submit"
   ]
  }
 ],
 "metadata": {
  "kernelspec": {
   "display_name": "Python 2",
   "language": "python",
   "name": "python2"
  },
  "language_info": {
   "codemirror_mode": {
    "name": "ipython",
    "version": 2
   },
   "file_extension": ".py",
   "mimetype": "text/x-python",
   "name": "python",
   "nbconvert_exporter": "python",
   "pygments_lexer": "ipython2",
   "version": "2.7.6"
  }
 },
 "nbformat": 4,
 "nbformat_minor": 0
}
