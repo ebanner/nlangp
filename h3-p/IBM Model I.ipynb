{
 "cells": [
  {
   "cell_type": "markdown",
   "metadata": {},
   "source": [
    "# IBM Model I"
   ]
  },
  {
   "cell_type": "code",
   "execution_count": 204,
   "metadata": {
    "collapsed": false
   },
   "outputs": [],
   "source": [
    "with open('corpus.en', 'r') as f, open('corpus.es', 'r') as g:\n",
    "    english_sentences, spanish_sentences = f.readlines(), g.readlines()"
   ]
  },
  {
   "cell_type": "markdown",
   "metadata": {},
   "source": [
    "## Reference Sentences"
   ]
  },
  {
   "cell_type": "code",
   "execution_count": 205,
   "metadata": {
    "collapsed": true
   },
   "outputs": [],
   "source": [
    "english_sentences, spanish_sentences = ['the dog', 'the chicken'], ['el perro', 'el pollo']"
   ]
  },
  {
   "cell_type": "code",
   "execution_count": 206,
   "metadata": {
    "collapsed": false
   },
   "outputs": [],
   "source": [
    "english_sentences, spanish_sentences = [sentence.split() for sentence in english_sentences], [sentence.split() for sentence in spanish_sentences]"
   ]
  },
  {
   "cell_type": "markdown",
   "metadata": {},
   "source": [
    "# Compute $n(e)$ for Every English Word"
   ]
  },
  {
   "cell_type": "code",
   "execution_count": 207,
   "metadata": {
    "collapsed": false
   },
   "outputs": [],
   "source": [
    "from collections import defaultdict\n",
    "\n",
    "candidate_mapping = defaultdict(set)\n",
    "\n",
    "# Get the total number of spanish words that appear in the same sentence as this english word\n",
    "for english_sentence in english_sentences:\n",
    "    for english_word in english_sentence:\n",
    "        # Already computed the all spanish words that occur in reference translations with this english word?\n",
    "        if english_word in candidate_mapping:\n",
    "            continue\n",
    "\n",
    "        # Go through all pairs of english-spanish sentences, collecting all spanish words that appear in a translation with the english word\n",
    "        candidate_mapping[english_word].update(\n",
    "            spanish_word\n",
    "            for english_sent, spanish_sent in zip(english_sentences, spanish_sentences)\n",
    "            if english_word in english_sent for spanish_word in spanish_sent)"
   ]
  },
  {
   "cell_type": "markdown",
   "metadata": {},
   "source": [
    "# For every $e$, initialize $t(f | e) = \\frac{1}{n(e)}$ for all $f$ that occur with $e$"
   ]
  },
  {
   "cell_type": "code",
   "execution_count": 208,
   "metadata": {
    "collapsed": false,
    "scrolled": true
   },
   "outputs": [
    {
     "name": "stdout",
     "output_type": "stream",
     "text": [
      "translation_prob(el | the) = 0.333333333333\n",
      "translation_prob(perro | the) = 0.333333333333\n",
      "translation_prob(pollo | the) = 0.333333333333\n",
      "translation_prob(el | dog) = 0.5\n",
      "translation_prob(perro | dog) = 0.5\n",
      "translation_prob(el | chicken) = 0.5\n",
      "translation_prob(pollo | chicken) = 0.5\n"
     ]
    }
   ],
   "source": [
    "from collections import defaultdict\n",
    "\n",
    "translation_prob = defaultdict(lambda: defaultdict(float))\n",
    "\n",
    "english_words = set(word for sentence in english_sentences for word in sentence)\n",
    "spanish_words = set(word for sentence in spanish_sentences for word in sentence)\n",
    "\n",
    "for english_word in english_words:\n",
    "    for spanish_word in candidate_mapping[english_word]:\n",
    "        print 'translation_prob({} | {}) = {}'.format(spanish_word, english_word, 1./len(candidate_mapping[english_word]))\n",
    "        translation_prob[spanish_word][english_word] = 1. / len(candidate_mapping[english_word])"
   ]
  },
  {
   "cell_type": "code",
   "execution_count": 209,
   "metadata": {
    "collapsed": false,
    "scrolled": true
   },
   "outputs": [],
   "source": [
    "import dill\n",
    "\n",
    "with open('translation_probs.p', 'wb') as f:\n",
    "    dill.dump(translation_prob, f)"
   ]
  },
  {
   "cell_type": "code",
   "execution_count": 210,
   "metadata": {
    "collapsed": false
   },
   "outputs": [],
   "source": [
    "import dill\n",
    "\n",
    "with open('translation_probs.p', 'rb') as f:\n",
    "    translation_probs = dill.load(f)"
   ]
  },
  {
   "cell_type": "markdown",
   "metadata": {},
   "source": [
    "# View Translation Probabilities"
   ]
  },
  {
   "cell_type": "code",
   "execution_count": 211,
   "metadata": {
    "collapsed": false
   },
   "outputs": [
    {
     "name": "stdout",
     "output_type": "stream",
     "text": [
      "translation_prob(el | the) = 0.333333333333\n",
      "translation_prob(el | dog) = 0.5\n",
      "translation_prob(el | chicken) = 0.5\n",
      "translation_prob(perro | the) = 0.333333333333\n",
      "translation_prob(perro | dog) = 0.5\n",
      "translation_prob(perro | chicken) = 0.0\n",
      "translation_prob(pollo | the) = 0.333333333333\n",
      "translation_prob(pollo | dog) = 0.0\n",
      "translation_prob(pollo | chicken) = 0.5\n"
     ]
    }
   ],
   "source": [
    "for spanish_word in spanish_words:\n",
    "    for english_word in english_words:\n",
    "        print 'translation_prob({} | {}) = {}'.format(spanish_word, english_word, translation_prob[spanish_word][english_word])"
   ]
  },
  {
   "cell_type": "markdown",
   "metadata": {},
   "source": [
    "# EM"
   ]
  },
  {
   "cell_type": "markdown",
   "metadata": {},
   "source": [
    "# Compute $\\delta(k, i, j)$ for all $k, i, j$"
   ]
  },
  {
   "cell_type": "code",
   "execution_count": 212,
   "metadata": {
    "collapsed": false,
    "scrolled": true
   },
   "outputs": [
    {
     "name": "stdout",
     "output_type": "stream",
     "text": [
      "==========================================================================================\n",
      "Computing normalizing term \\Sum_j translation_prob(s=el | e_j=['the', 'dog'])...\n",
      "\n",
      "    translation_prob(el | the) = 0.333333333333\n",
      "    translation_prob(el | dog) = 0.5\n",
      "\n",
      "English sentence: [(0, 'the'), (1, 'dog')]\n",
      "Spanish sentence: [(0, 'el'), (1, 'perro')]\n",
      "\n",
      "delta(k=0, i=0, j=0) = 0.4\n",
      "delta(k=0, i=0, j=1) = 0.6\n",
      "==========================================================================================\n",
      "\n",
      "\n",
      "==========================================================================================\n",
      "Computing normalizing term \\Sum_j translation_prob(s=perro | e_j=['the', 'dog'])...\n",
      "\n",
      "    translation_prob(perro | the) = 0.333333333333\n",
      "    translation_prob(perro | dog) = 0.5\n",
      "\n",
      "English sentence: [(0, 'the'), (1, 'dog')]\n",
      "Spanish sentence: [(0, 'el'), (1, 'perro')]\n",
      "\n",
      "delta(k=0, i=1, j=0) = 0.4\n",
      "delta(k=0, i=1, j=1) = 0.6\n",
      "==========================================================================================\n",
      "\n",
      "\n",
      "==========================================================================================\n",
      "Computing normalizing term \\Sum_j translation_prob(s=el | e_j=['the', 'chicken'])...\n",
      "\n",
      "    translation_prob(el | the) = 0.333333333333\n",
      "    translation_prob(el | chicken) = 0.5\n",
      "\n",
      "English sentence: [(0, 'the'), (1, 'chicken')]\n",
      "Spanish sentence: [(0, 'el'), (1, 'pollo')]\n",
      "\n",
      "delta(k=1, i=0, j=0) = 0.4\n",
      "delta(k=1, i=0, j=1) = 0.6\n",
      "==========================================================================================\n",
      "\n",
      "\n",
      "==========================================================================================\n",
      "Computing normalizing term \\Sum_j translation_prob(s=pollo | e_j=['the', 'chicken'])...\n",
      "\n",
      "    translation_prob(pollo | the) = 0.333333333333\n",
      "    translation_prob(pollo | chicken) = 0.5\n",
      "\n",
      "English sentence: [(0, 'the'), (1, 'chicken')]\n",
      "Spanish sentence: [(0, 'el'), (1, 'pollo')]\n",
      "\n",
      "delta(k=1, i=1, j=0) = 0.4\n",
      "delta(k=1, i=1, j=1) = 0.6\n",
      "==========================================================================================\n",
      "\n",
      "\n"
     ]
    }
   ],
   "source": [
    "delta = {}\n",
    "\n",
    "for k, (english_sentence, spanish_sentence) in enumerate(zip(english_sentences, spanish_sentences)):\n",
    "    for i, spanish_word in enumerate(spanish_sentence):\n",
    "        print '=========================================================================================='\n",
    "        print 'Computing normalizing term \\Sum_j translation_prob(s={} | e_j={})...'.format(spanish_word, english_sentence)\n",
    "        print\n",
    "        normalizing_term = 0\n",
    "        for english_word in english_sentence:\n",
    "            print '    translation_prob({} | {}) = {}'.format(spanish_word, english_word, translation_prob[spanish_word][english_word])\n",
    "            normalizing_term += translation_prob[spanish_word][english_word]\n",
    "            \n",
    "        print\n",
    "        \n",
    "        print 'English sentence: {}'.format(zip(range(len(english_sentence)), english_sentence))\n",
    "        print 'Spanish sentence: {}'.format(zip(range(len(spanish_sentence)), spanish_sentence))\n",
    "        print\n",
    "        \n",
    "        for j, english_word in enumerate(english_sentence):\n",
    "            delta[(k, i, j)] = translation_prob[spanish_word][english_word] / float(normalizing_term)\n",
    "            print 'delta(k={}, i={}, j={}) = {}'.format(k, i, j, delta[(k, i, j)])\n",
    "        print '=========================================================================================='\n",
    "        \n",
    "        print\n",
    "        print"
   ]
  },
  {
   "cell_type": "markdown",
   "metadata": {},
   "source": [
    "# Compute Expected Alignment Counts"
   ]
  },
  {
   "cell_type": "code",
   "execution_count": 213,
   "metadata": {
    "collapsed": false
   },
   "outputs": [],
   "source": [
    "from collections import defaultdict\n",
    "\n",
    "expected_alignment_count = defaultdict(float)\n",
    "\n",
    "for k, (english_sentence, spanish_sentence) in enumerate(zip(english_sentences, spanish_sentences)):\n",
    "    for i, spanish_word in enumerate(spanish_sentence):  \n",
    "        for j, english_word in enumerate(english_sentence):\n",
    "            expected_alignment_count[(english_word, spanish_word)] += delta[(k, i, j)]\n",
    "            expected_alignment_count[english_word] += delta[(k, i, j)]"
   ]
  },
  {
   "cell_type": "code",
   "execution_count": 214,
   "metadata": {
    "collapsed": false
   },
   "outputs": [
    {
     "name": "stdout",
     "output_type": "stream",
     "text": [
      "('dog', 'el'): 0.6\n",
      "('the', 'perro'): 0.4\n",
      "('chicken', 'el'): 0.6\n",
      "('the', 'el'): 0.8\n",
      "('the', 'pollo'): 0.4\n",
      "dog: 1.2\n",
      "('chicken', 'pollo'): 0.6\n",
      "chicken: 1.2\n",
      "the: 1.6\n",
      "('dog', 'perro'): 0.6\n"
     ]
    }
   ],
   "source": [
    "for elem, count in expected_alignment_count.items():\n",
    "    print '{}: {}'.format(elem, count)"
   ]
  },
  {
   "cell_type": "markdown",
   "metadata": {},
   "source": [
    "# Re-Estimate Translation Probabilities"
   ]
  },
  {
   "cell_type": "code",
   "execution_count": 215,
   "metadata": {
    "collapsed": false
   },
   "outputs": [
    {
     "name": "stdout",
     "output_type": "stream",
     "text": [
      "Old translation probabilities...\n",
      "\n",
      "    translation_problation_prob(el | the) = 0.333333333333\n",
      "    translation_problation_prob(perro | the) = 0.333333333333\n",
      "    translation_problation_prob(pollo | the) = 0.333333333333\n",
      "    translation_problation_prob(el | dog) = 0.5\n",
      "    translation_problation_prob(perro | dog) = 0.5\n",
      "    translation_problation_prob(el | chicken) = 0.5\n",
      "    translation_problation_prob(pollo | chicken) = 0.5\n",
      "\n",
      "\n",
      "New translation probabilities...\n",
      "\n",
      "    translation_prob(el | the) = 0.5\n",
      "    translation_prob(perro | the) = 0.25\n",
      "    translation_prob(pollo | the) = 0.25\n",
      "    translation_prob(el | dog) = 0.5\n",
      "    translation_prob(perro | dog) = 0.5\n",
      "    translation_prob(el | chicken) = 0.5\n",
      "    translation_prob(pollo | chicken) = 0.5\n"
     ]
    }
   ],
   "source": [
    "print 'Old translation probabilities...'\n",
    "print\n",
    "for english_word in english_words:\n",
    "    for spanish_word in translation_prob:\n",
    "        if translation_prob[spanish_word][english_word]:\n",
    "            print '    translation_problation_prob({} | {}) = {}'.format(spanish_word, english_word, translation_prob[spanish_word][english_word])\n",
    "\n",
    "print\n",
    "print\n",
    "        \n",
    "for english_word in english_words:\n",
    "    for spanish_word in translation_prob:\n",
    "        if translation_prob[spanish_word][english_word]:\n",
    "            new_prob = expected_alignment_count[(english_word, spanish_word)] / expected_alignment_count[english_word]\n",
    "            translation_prob[spanish_word][english_word] = expected_alignment_count[(english_word, spanish_word)] / expected_alignment_count[english_word]\n",
    "\n",
    "print 'New translation probabilities...'\n",
    "print\n",
    "for english_word in english_words:\n",
    "    for spanish_word in translation_prob:\n",
    "        if translation_prob[spanish_word][english_word]:\n",
    "            print '    translation_prob({} | {}) = {}'.format(spanish_word, english_word, translation_prob[spanish_word][english_word])"
   ]
  },
  {
   "cell_type": "markdown",
   "metadata": {},
   "source": [
    "# Recover Alignments"
   ]
  },
  {
   "cell_type": "code",
   "execution_count": 220,
   "metadata": {
    "collapsed": false
   },
   "outputs": [
    {
     "name": "stdout",
     "output_type": "stream",
     "text": [
      "translation_prob(el | the) = 0.5\n",
      "translation_prob(el | dog) = 0.5\n",
      "Setting the i=0 alignment to ('the', 0.5)...\n",
      "translation_prob(perro | the) = 0.25\n",
      "translation_prob(perro | dog) = 0.5\n",
      "Setting the i=1 alignment to ('dog', 0.5)...\n",
      "Setting the k=0 alignment to ...\n",
      "translation_prob(el | the) = 0.5\n",
      "translation_prob(el | chicken) = 0.5\n",
      "Setting the i=0 alignment to ('the', 0.5)...\n",
      "translation_prob(pollo | the) = 0.25\n",
      "translation_prob(pollo | chicken) = 0.5\n",
      "Setting the i=1 alignment to ('chicken', 0.5)...\n",
      "Setting the k=1 alignment to ...\n"
     ]
    }
   ],
   "source": [
    "alignments = [''] * len(spanish_sentences)\n",
    "\n",
    "for k, (english_sentence, spanish_sentence) in enumerate(zip(english_sentences, spanish_sentences)):\n",
    "    \n",
    "    alignment = [0] * len(spanish_sentence)\n",
    "    for i, spanish_word in enumerate(spanish_sentence):\n",
    "        \n",
    "        most_likely_alignment = (None, 0)\n",
    "        for english_word in english_sentence:\n",
    "            print 'translation_prob({} | {}) = {}'.format(spanish_word, english_word, translation_prob[spanish_word][english_word])\n",
    "            most_likely_alignment = (english_word, translation_prob[spanish_word][english_word]) if translation_prob[spanish_word][english_word] > most_likely_alignment[1] else most_likely_alignment\n",
    "        \n",
    "        print 'Setting the i={} alignment to {}...'.format(i, most_likely_alignment)\n",
    "        alignment[i] = most_likely_alignment\n",
    "    \n",
    "    print 'Setting the k={} alignment to {}...'.format(k, alignments[i])\n",
    "    alignments[k] = alignment"
   ]
  },
  {
   "cell_type": "code",
   "execution_count": 221,
   "metadata": {
    "collapsed": false
   },
   "outputs": [
    {
     "data": {
      "text/plain": [
       "[[('the', 0.5), ('dog', 0.5)], [('the', 0.5), ('chicken', 0.5)]]"
      ]
     },
     "execution_count": 221,
     "metadata": {},
     "output_type": "execute_result"
    }
   ],
   "source": [
    "alignments"
   ]
  }
 ],
 "metadata": {
  "kernelspec": {
   "display_name": "Python 2",
   "language": "python",
   "name": "python2"
  },
  "language_info": {
   "codemirror_mode": {
    "name": "ipython",
    "version": 2
   },
   "file_extension": ".py",
   "mimetype": "text/x-python",
   "name": "python",
   "nbconvert_exporter": "python",
   "pygments_lexer": "ipython2",
   "version": "2.7.3"
  }
 },
 "nbformat": 4,
 "nbformat_minor": 0
}
