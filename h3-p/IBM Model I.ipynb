{
 "cells": [
  {
   "cell_type": "markdown",
   "metadata": {},
   "source": [
    "# IBM Model I"
   ]
  },
  {
   "cell_type": "code",
   "execution_count": 1,
   "metadata": {
    "collapsed": false
   },
   "outputs": [],
   "source": [
    "with open('corpus.en', 'r') as f, open('corpus.es', 'r') as g:\n",
    "    english_sentences, spanish_sentences = f.readlines(), g.readlines()"
   ]
  },
  {
   "cell_type": "markdown",
   "metadata": {},
   "source": [
    "## Reference Sentences"
   ]
  },
  {
   "cell_type": "code",
   "execution_count": 2,
   "metadata": {
    "collapsed": true
   },
   "outputs": [],
   "source": [
    "english_sentences, spanish_sentences = ['the dog', 'the chicken'], ['el perro', 'el pollo']"
   ]
  },
  {
   "cell_type": "code",
   "execution_count": 3,
   "metadata": {
    "collapsed": false
   },
   "outputs": [],
   "source": [
    "english_sentences, spanish_sentences = [sentence.split() for sentence in english_sentences], [sentence.split() for sentence in spanish_sentences]"
   ]
  },
  {
   "cell_type": "markdown",
   "metadata": {},
   "source": [
    "# Compute $n(e)$ for Every English Word"
   ]
  },
  {
   "cell_type": "code",
   "execution_count": 4,
   "metadata": {
    "collapsed": false
   },
   "outputs": [],
   "source": [
    "from collections import defaultdict\n",
    "\n",
    "candidate_mapping = defaultdict(set)\n",
    "\n",
    "# Get the total number of spanish words that appear in the same sentence as this english word\n",
    "for english_sentence in english_sentences:\n",
    "    for english_word in english_sentence:\n",
    "        # Already computed the all spanish words that occur in reference translations with this english word?\n",
    "        if english_word in candidate_mapping:\n",
    "            continue\n",
    "\n",
    "        # Go through all pairs of english-spanish sentences, collecting all spanish words that appear in a translation with the english word\n",
    "        candidate_mapping[english_word].update(\n",
    "            spanish_word\n",
    "            for english_sent, spanish_sent in zip(english_sentences, spanish_sentences)\n",
    "            if english_word in english_sent for spanish_word in spanish_sent)"
   ]
  },
  {
   "cell_type": "markdown",
   "metadata": {},
   "source": [
    "# For every $e$, initialize $t(f | e) = \\frac{1}{n(e)}$ for all $f$ that occur with $e$"
   ]
  },
  {
   "cell_type": "code",
   "execution_count": 5,
   "metadata": {
    "collapsed": false,
    "scrolled": true
   },
   "outputs": [
    {
     "name": "stdout",
     "output_type": "stream",
     "text": [
      "translation_prob(el | the) = 0.333333333333\n",
      "translation_prob(perro | the) = 0.333333333333\n",
      "translation_prob(pollo | the) = 0.333333333333\n",
      "translation_prob(el | dog) = 0.5\n",
      "translation_prob(perro | dog) = 0.5\n",
      "translation_prob(el | chicken) = 0.5\n",
      "translation_prob(pollo | chicken) = 0.5\n"
     ]
    }
   ],
   "source": [
    "from collections import defaultdict\n",
    "\n",
    "translation_prob = defaultdict(lambda: defaultdict(float))\n",
    "\n",
    "english_words = set(word for sentence in english_sentences for word in sentence)\n",
    "spanish_words = set(word for sentence in spanish_sentences for word in sentence)\n",
    "\n",
    "for english_word in english_words:\n",
    "    for spanish_word in candidate_mapping[english_word]:\n",
    "        print 'translation_prob({} | {}) = {}'.format(spanish_word, english_word, 1./len(candidate_mapping[english_word]))\n",
    "        translation_prob[spanish_word][english_word] = 1. / len(candidate_mapping[english_word])"
   ]
  },
  {
   "cell_type": "code",
   "execution_count": 19,
   "metadata": {
    "collapsed": false,
    "scrolled": true
   },
   "outputs": [],
   "source": [
    "import dill\n",
    "\n",
    "with open('translation_probs.p', 'wb') as f:\n",
    "    dill.dump(translation_prob, f)"
   ]
  },
  {
   "cell_type": "code",
   "execution_count": 6,
   "metadata": {
    "collapsed": false
   },
   "outputs": [],
   "source": [
    "import dill\n",
    "\n",
    "with open('translation_probs.p', 'rb') as f:\n",
    "    translation_probs = dill.load(f)"
   ]
  },
  {
   "cell_type": "markdown",
   "metadata": {},
   "source": [
    "# View Translation Probabilities"
   ]
  },
  {
   "cell_type": "code",
   "execution_count": 7,
   "metadata": {
    "collapsed": false
   },
   "outputs": [
    {
     "name": "stdout",
     "output_type": "stream",
     "text": [
      "translation_prob(el | the) = 0.333333333333\n",
      "translation_prob(el | dog) = 0.5\n",
      "translation_prob(el | chicken) = 0.5\n",
      "translation_prob(perro | the) = 0.333333333333\n",
      "translation_prob(perro | dog) = 0.5\n",
      "translation_prob(perro | chicken) = 0.0\n",
      "translation_prob(pollo | the) = 0.333333333333\n",
      "translation_prob(pollo | dog) = 0.0\n",
      "translation_prob(pollo | chicken) = 0.5\n"
     ]
    }
   ],
   "source": [
    "for spanish_word in spanish_words:\n",
    "    for english_word in english_words:\n",
    "        print 'translation_prob({} | {}) = {}'.format(spanish_word, english_word, translation_prob[spanish_word][english_word])"
   ]
  }
 ],
 "metadata": {
  "kernelspec": {
   "display_name": "Python 2",
   "language": "python",
   "name": "python2"
  },
  "language_info": {
   "codemirror_mode": {
    "name": "ipython",
    "version": 2
   },
   "file_extension": ".py",
   "mimetype": "text/x-python",
   "name": "python",
   "nbconvert_exporter": "python",
   "pygments_lexer": "ipython2",
   "version": "2.7.3"
  }
 },
 "nbformat": 4,
 "nbformat_minor": 0
}
