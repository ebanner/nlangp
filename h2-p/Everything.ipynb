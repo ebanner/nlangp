{
 "cells": [
  {
   "cell_type": "markdown",
   "metadata": {},
   "source": [
    "# Compute Rule Counts"
   ]
  },
  {
   "cell_type": "code",
   "execution_count": null,
   "metadata": {
    "collapsed": true
   },
   "outputs": [],
   "source": [
    "!python count_cfg_freq.py parse_train.dat > cfg.counts"
   ]
  },
  {
   "cell_type": "code",
   "execution_count": 14,
   "metadata": {
    "collapsed": true
   },
   "outputs": [],
   "source": [
    "import pandas as pd\n",
    "\n",
    "df = pd.read_csv('cfg.counts', sep=' ', names=['Count', 'Rule Type', 'Rule', 'Token'])"
   ]
  },
  {
   "cell_type": "markdown",
   "metadata": {},
   "source": [
    "# Find Rare Words"
   ]
  },
  {
   "cell_type": "code",
   "execution_count": 50,
   "metadata": {
    "collapsed": true
   },
   "outputs": [],
   "source": [
    "unaries = df[df['Rule Type'] == 'UNARYRULE']"
   ]
  },
  {
   "cell_type": "code",
   "execution_count": 61,
   "metadata": {
    "collapsed": false,
    "scrolled": true
   },
   "outputs": [],
   "source": [
    "from collections import defaultdict\n",
    "\n",
    "counts = defaultdict(int)\n",
    "\n",
    "for count, token in unaries[['Count', 'Token']].values:\n",
    "    counts[token] += int(count)"
   ]
  },
  {
   "cell_type": "code",
   "execution_count": 67,
   "metadata": {
    "collapsed": false
   },
   "outputs": [],
   "source": [
    "rares = set(token for token, count in counts.items() if count < 5)"
   ]
  },
  {
   "cell_type": "markdown",
   "metadata": {},
   "source": [
    "# Replace All Occurrences of Rare Words in Original Training Set with _RARE_"
   ]
  },
  {
   "cell_type": "code",
   "execution_count": 88,
   "metadata": {
    "collapsed": true
   },
   "outputs": [],
   "source": [
    "with open('parse_train.dat', 'r') as f:\n",
    "    lines = f.readlines()\n",
    "    \n",
    "import json\n",
    "trees = [json.loads(line) for line in lines]"
   ]
  },
  {
   "cell_type": "code",
   "execution_count": 71,
   "metadata": {
    "collapsed": false
   },
   "outputs": [],
   "source": [
    "def rarify(tree, rares):\n",
    "    \"\"\"Produce a new tree with rare leaves replaced with the symbol _RARE_\"\"\"\n",
    "    def rarify_iter(tree):\n",
    "        # Leaf?\n",
    "        if isinstance(tree, basestring):\n",
    "            return [tree] if tree not in rares else ['_RARE_']\n",
    "\n",
    "        # Binary rule?\n",
    "        elif len(tree) == 3:\n",
    "            return tree[:1] + [rarify_iter(tree[1])] + [rarify_iter(tree[2])]\n",
    "\n",
    "        # Unary rule?\n",
    "        elif len(tree) == 2:\n",
    "            return tree[:1] + rarify_iter(tree[1])\n",
    "    \n",
    "    return rarify_iter(tree)"
   ]
  },
  {
   "cell_type": "markdown",
   "metadata": {},
   "source": [
    "# Write Training Data Back with _RARE_"
   ]
  },
  {
   "cell_type": "code",
   "execution_count": 110,
   "metadata": {
    "collapsed": false
   },
   "outputs": [],
   "source": [
    "with open('parse_train+rare.dat', 'w') as f:\n",
    "    for tree in trees:\n",
    "        json.dump(rarify(tree, rares), f)\n",
    "        f.write('\\n')"
   ]
  },
  {
   "cell_type": "markdown",
   "metadata": {},
   "source": [
    "# Rerun Counts"
   ]
  },
  {
   "cell_type": "code",
   "execution_count": 112,
   "metadata": {
    "collapsed": true
   },
   "outputs": [],
   "source": [
    "!python count_cfg_freq.py parse_train+rare.dat > cfg.counts"
   ]
  }
 ],
 "metadata": {
  "kernelspec": {
   "display_name": "Python 2",
   "language": "python",
   "name": "python2"
  },
  "language_info": {
   "codemirror_mode": {
    "name": "ipython",
    "version": 2
   },
   "file_extension": ".py",
   "mimetype": "text/x-python",
   "name": "python",
   "nbconvert_exporter": "python",
   "pygments_lexer": "ipython2",
   "version": "2.7.3"
  }
 },
 "nbformat": 4,
 "nbformat_minor": 0
}
